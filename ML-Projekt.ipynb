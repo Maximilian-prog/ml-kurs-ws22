{
 "cells": [
  {
   "cell_type": "markdown",
   "id": "d589121a",
   "metadata": {},
   "source": [
    "# ML-Projekt"
   ]
  },
  {
   "attachments": {},
   "cell_type": "markdown",
   "id": "ec46d9c3",
   "metadata": {},
   "source": [
    "Luca Dock - 79768\n",
    "\n",
    "Maximilian Büchler - 79695\n",
    "\n",
    "Jonas Blümm - 80640\n",
    "\n",
    "Team ID = 240103"
   ]
  },
  {
   "cell_type": "code",
   "execution_count": 2,
   "id": "1d182e7b",
   "metadata": {},
   "outputs": [
    {
     "name": "stdout",
     "output_type": "stream",
     "text": [
      "240103\n"
     ]
    }
   ],
   "source": [
    "team_ID = 79768 + 79695 + 80640\n",
    "print(team_ID)"
   ]
  },
  {
   "attachments": {},
   "cell_type": "markdown",
   "id": "b5c7d5d5",
   "metadata": {},
   "source": [
    "## Schritt 1"
   ]
  },
  {
   "attachments": {},
   "cell_type": "markdown",
   "id": "8bd6bafa",
   "metadata": {},
   "source": [
    "Trainingsdaten laden"
   ]
  },
  {
   "cell_type": "code",
   "execution_count": 3,
   "id": "5b8eb693",
   "metadata": {},
   "outputs": [
    {
     "data": {
      "text/html": [
       "<div>\n",
       "<style scoped>\n",
       "    .dataframe tbody tr th:only-of-type {\n",
       "        vertical-align: middle;\n",
       "    }\n",
       "\n",
       "    .dataframe tbody tr th {\n",
       "        vertical-align: top;\n",
       "    }\n",
       "\n",
       "    .dataframe thead th {\n",
       "        text-align: right;\n",
       "    }\n",
       "</style>\n",
       "<table border=\"1\" class=\"dataframe\">\n",
       "  <thead>\n",
       "    <tr style=\"text-align: right;\">\n",
       "      <th></th>\n",
       "      <th>transactionId</th>\n",
       "      <th>basket</th>\n",
       "      <th>customerType</th>\n",
       "      <th>totalAmount</th>\n",
       "      <th>returnLabel</th>\n",
       "    </tr>\n",
       "  </thead>\n",
       "  <tbody>\n",
       "    <tr>\n",
       "      <th>0</th>\n",
       "      <td>9534310106</td>\n",
       "      <td>[4, 3, 4]</td>\n",
       "      <td>new</td>\n",
       "      <td>252.0</td>\n",
       "      <td>1</td>\n",
       "    </tr>\n",
       "    <tr>\n",
       "      <th>1</th>\n",
       "      <td>7202594767</td>\n",
       "      <td>[4, 2, 0, 2, 5]</td>\n",
       "      <td>existing</td>\n",
       "      <td>70.0</td>\n",
       "      <td>0</td>\n",
       "    </tr>\n",
       "    <tr>\n",
       "      <th>2</th>\n",
       "      <td>2737331698</td>\n",
       "      <td>[5]</td>\n",
       "      <td>existing</td>\n",
       "      <td>84.0</td>\n",
       "      <td>0</td>\n",
       "    </tr>\n",
       "    <tr>\n",
       "      <th>3</th>\n",
       "      <td>4868011733</td>\n",
       "      <td>[1, 4, 2, 4]</td>\n",
       "      <td>existing</td>\n",
       "      <td>116.0</td>\n",
       "      <td>0</td>\n",
       "    </tr>\n",
       "    <tr>\n",
       "      <th>4</th>\n",
       "      <td>7622406570</td>\n",
       "      <td>[2, 5, 3, 2, 3, 2, 0]</td>\n",
       "      <td>existing</td>\n",
       "      <td>378.0</td>\n",
       "      <td>0</td>\n",
       "    </tr>\n",
       "  </tbody>\n",
       "</table>\n",
       "</div>"
      ],
      "text/plain": [
       "   transactionId                 basket customerType  totalAmount  returnLabel\n",
       "0     9534310106              [4, 3, 4]          new        252.0            1\n",
       "1     7202594767        [4, 2, 0, 2, 5]     existing         70.0            0\n",
       "2     2737331698                    [5]     existing         84.0            0\n",
       "3     4868011733           [1, 4, 2, 4]     existing        116.0            0\n",
       "4     7622406570  [2, 5, 3, 2, 3, 2, 0]     existing        378.0            0"
      ]
     },
     "execution_count": 3,
     "metadata": {},
     "output_type": "execute_result"
    }
   ],
   "source": [
    "import pandas as pd\n",
    "import sklearn\n",
    "import numpy as np\n",
    "from sklearn.model_selection import *\n",
    "from sklearn.linear_model import *\n",
    "from sklearn.metrics import *\n",
    "from sklearn.preprocessing import StandardScaler\n",
    "from sklearn.metrics import accuracy_score, precision_score, recall_score\n",
    "\n",
    "data_raw = pd.read_csv(\"data/project/train.csv\", delimiter=';')\n",
    "data_raw.head()"
   ]
  },
  {
   "cell_type": "code",
   "execution_count": 4,
   "id": "910578b8",
   "metadata": {},
   "outputs": [
    {
     "data": {
      "text/plain": [
       "(22400, 5)"
      ]
     },
     "execution_count": 4,
     "metadata": {},
     "output_type": "execute_result"
    }
   ],
   "source": [
    "data_raw.shape"
   ]
  },
  {
   "attachments": {},
   "cell_type": "markdown",
   "id": "f712b5ae",
   "metadata": {},
   "source": [
    "## Schritt 2"
   ]
  },
  {
   "attachments": {},
   "cell_type": "markdown",
   "id": "32c808c8",
   "metadata": {},
   "source": [
    "EDA (Exploratory Data Analysis)"
   ]
  },
  {
   "cell_type": "code",
   "execution_count": 5,
   "id": "3b305b9e",
   "metadata": {},
   "outputs": [
    {
     "data": {
      "text/plain": [
       "<AxesSubplot:>"
      ]
     },
     "execution_count": 5,
     "metadata": {},
     "output_type": "execute_result"
    },
    {
     "data": {
      "image/png": "[encoded data removed]",
      "text/plain": [
       "<Figure size 640x480 with 1 Axes>"
      ]
     },
     "metadata": {},
     "output_type": "display_data"
    }
   ],
   "source": [
    "data_raw[\"customerType\"].hist()"
   ]
  },
  {
   "cell_type": "code",
   "execution_count": 6,
   "id": "e02643c8",
   "metadata": {},
   "outputs": [
    {
     "data": {
      "text/plain": [
       "<AxesSubplot:>"
      ]
     },
     "execution_count": 6,
     "metadata": {},
     "output_type": "execute_result"
    },
    {
     "data": {
      "image/png": "[encoded data removed]",
      "text/plain": [
       "<Figure size 640x480 with 1 Axes>"
      ]
     },
     "metadata": {},
     "output_type": "display_data"
    }
   ],
   "source": [
    "data_raw[\"totalAmount\"].hist()"
   ]
  },
  {
   "cell_type": "code",
   "execution_count": 7,
   "id": "6ccb5018",
   "metadata": {},
   "outputs": [
    {
     "data": {
      "text/html": [
       "<div>\n",
       "<style scoped>\n",
       "    .dataframe tbody tr th:only-of-type {\n",
       "        vertical-align: middle;\n",
       "    }\n",
       "\n",
       "    .dataframe tbody tr th {\n",
       "        vertical-align: top;\n",
       "    }\n",
       "\n",
       "    .dataframe thead th {\n",
       "        text-align: right;\n",
       "    }\n",
       "</style>\n",
       "<table border=\"1\" class=\"dataframe\">\n",
       "  <thead>\n",
       "    <tr style=\"text-align: right;\">\n",
       "      <th></th>\n",
       "      <th>transactionId</th>\n",
       "      <th>basket</th>\n",
       "      <th>customerType</th>\n",
       "      <th>totalAmount</th>\n",
       "      <th>returnLabel</th>\n",
       "    </tr>\n",
       "  </thead>\n",
       "  <tbody>\n",
       "    <tr>\n",
       "      <th>1</th>\n",
       "      <td>7202594767</td>\n",
       "      <td>[4, 2, 0, 2, 5]</td>\n",
       "      <td>existing</td>\n",
       "      <td>70.0</td>\n",
       "      <td>0</td>\n",
       "    </tr>\n",
       "    <tr>\n",
       "      <th>2</th>\n",
       "      <td>2737331698</td>\n",
       "      <td>[5]</td>\n",
       "      <td>existing</td>\n",
       "      <td>84.0</td>\n",
       "      <td>0</td>\n",
       "    </tr>\n",
       "    <tr>\n",
       "      <th>3</th>\n",
       "      <td>4868011733</td>\n",
       "      <td>[1, 4, 2, 4]</td>\n",
       "      <td>existing</td>\n",
       "      <td>116.0</td>\n",
       "      <td>0</td>\n",
       "    </tr>\n",
       "    <tr>\n",
       "      <th>4</th>\n",
       "      <td>7622406570</td>\n",
       "      <td>[2, 5, 3, 2, 3, 2, 0]</td>\n",
       "      <td>existing</td>\n",
       "      <td>378.0</td>\n",
       "      <td>0</td>\n",
       "    </tr>\n",
       "    <tr>\n",
       "      <th>5</th>\n",
       "      <td>5023376715</td>\n",
       "      <td>[3, 1, 3, 4]</td>\n",
       "      <td>existing</td>\n",
       "      <td>80.0</td>\n",
       "      <td>1</td>\n",
       "    </tr>\n",
       "  </tbody>\n",
       "</table>\n",
       "</div>"
      ],
      "text/plain": [
       "   transactionId                 basket customerType  totalAmount  returnLabel\n",
       "1     7202594767        [4, 2, 0, 2, 5]     existing         70.0            0\n",
       "2     2737331698                    [5]     existing         84.0            0\n",
       "3     4868011733           [1, 4, 2, 4]     existing        116.0            0\n",
       "4     7622406570  [2, 5, 3, 2, 3, 2, 0]     existing        378.0            0\n",
       "5     5023376715           [3, 1, 3, 4]     existing         80.0            1"
      ]
     },
     "execution_count": 7,
     "metadata": {},
     "output_type": "execute_result"
    }
   ],
   "source": [
    "df_Cust_Existing = data_raw.loc[data_raw[\"customerType\"]==\"existing\"]\n",
    "df_Cust_Existing.head()"
   ]
  },
  {
   "cell_type": "code",
   "execution_count": 8,
   "id": "24ed9bc9",
   "metadata": {
    "scrolled": true
   },
   "outputs": [
    {
     "data": {
      "text/html": [
       "<div>\n",
       "<style scoped>\n",
       "    .dataframe tbody tr th:only-of-type {\n",
       "        vertical-align: middle;\n",
       "    }\n",
       "\n",
       "    .dataframe tbody tr th {\n",
       "        vertical-align: top;\n",
       "    }\n",
       "\n",
       "    .dataframe thead th {\n",
       "        text-align: right;\n",
       "    }\n",
       "</style>\n",
       "<table border=\"1\" class=\"dataframe\">\n",
       "  <thead>\n",
       "    <tr style=\"text-align: right;\">\n",
       "      <th></th>\n",
       "      <th>transactionId</th>\n",
       "      <th>basket</th>\n",
       "      <th>customerType</th>\n",
       "      <th>totalAmount</th>\n",
       "      <th>returnLabel</th>\n",
       "    </tr>\n",
       "  </thead>\n",
       "  <tbody>\n",
       "    <tr>\n",
       "      <th>0</th>\n",
       "      <td>9534310106</td>\n",
       "      <td>[4, 3, 4]</td>\n",
       "      <td>new</td>\n",
       "      <td>252.0</td>\n",
       "      <td>1</td>\n",
       "    </tr>\n",
       "    <tr>\n",
       "      <th>9</th>\n",
       "      <td>8428315544</td>\n",
       "      <td>[2, 0, 3, 2, 3, 1, 4, 1]</td>\n",
       "      <td>new</td>\n",
       "      <td>376.0</td>\n",
       "      <td>0</td>\n",
       "    </tr>\n",
       "    <tr>\n",
       "      <th>12</th>\n",
       "      <td>2943511932</td>\n",
       "      <td>[3, 5, 1, 5, 0, 1]</td>\n",
       "      <td>new</td>\n",
       "      <td>84.0</td>\n",
       "      <td>0</td>\n",
       "    </tr>\n",
       "    <tr>\n",
       "      <th>13</th>\n",
       "      <td>1568500392</td>\n",
       "      <td>[3, 4]</td>\n",
       "      <td>new</td>\n",
       "      <td>204.0</td>\n",
       "      <td>0</td>\n",
       "    </tr>\n",
       "    <tr>\n",
       "      <th>15</th>\n",
       "      <td>8222551259</td>\n",
       "      <td>[3, 4, 3, 4, 4, 0, 1]</td>\n",
       "      <td>new</td>\n",
       "      <td>616.0</td>\n",
       "      <td>1</td>\n",
       "    </tr>\n",
       "  </tbody>\n",
       "</table>\n",
       "</div>"
      ],
      "text/plain": [
       "    transactionId                    basket customerType  totalAmount  \\\n",
       "0      9534310106                 [4, 3, 4]          new        252.0   \n",
       "9      8428315544  [2, 0, 3, 2, 3, 1, 4, 1]          new        376.0   \n",
       "12     2943511932        [3, 5, 1, 5, 0, 1]          new         84.0   \n",
       "13     1568500392                    [3, 4]          new        204.0   \n",
       "15     8222551259     [3, 4, 3, 4, 4, 0, 1]          new        616.0   \n",
       "\n",
       "    returnLabel  \n",
       "0             1  \n",
       "9             0  \n",
       "12            0  \n",
       "13            0  \n",
       "15            1  "
      ]
     },
     "execution_count": 8,
     "metadata": {},
     "output_type": "execute_result"
    }
   ],
   "source": [
    "df_Cust_New = data_raw.loc[data_raw[\"customerType\"]==\"new\"]\n",
    "df_Cust_New.head()"
   ]
  },
  {
   "cell_type": "markdown",
   "id": "a1791feb",
   "metadata": {},
   "source": [
    "Verteilung von returnLabel über customerType<br>\n",
    "Die Verteilung von Zurückschicken bei Neukunden und Altkunden"
   ]
  },
  {
   "cell_type": "code",
   "execution_count": 9,
   "id": "95429636",
   "metadata": {},
   "outputs": [
    {
     "data": {
      "text/plain": [
       "<AxesSubplot:>"
      ]
     },
     "execution_count": 9,
     "metadata": {},
     "output_type": "execute_result"
    },
    {
     "data": {
      "image/png": "[encoded data removed]",
      "text/plain": [
       "<Figure size 640x480 with 1 Axes>"
      ]
     },
     "metadata": {},
     "output_type": "display_data"
    }
   ],
   "source": [
    "df_Cust_Existing[\"returnLabel\"].hist()"
   ]
  },
  {
   "cell_type": "code",
   "execution_count": 10,
   "id": "e6cb0178",
   "metadata": {},
   "outputs": [
    {
     "data": {
      "text/plain": [
       "<AxesSubplot:>"
      ]
     },
     "execution_count": 10,
     "metadata": {},
     "output_type": "execute_result"
    },
    {
     "data": {
      "image/png": "[encoded data removed]",
      "text/plain": [
       "<Figure size 640x480 with 1 Axes>"
      ]
     },
     "metadata": {},
     "output_type": "display_data"
    }
   ],
   "source": [
    "df_Cust_New[\"returnLabel\"].hist()"
   ]
  },
  {
   "cell_type": "markdown",
   "id": "215e5a09",
   "metadata": {},
   "source": [
    "Boxplot für TotalAmount"
   ]
  },
  {
   "cell_type": "code",
   "execution_count": 11,
   "id": "a5fecbcb",
   "metadata": {
    "scrolled": false
   },
   "outputs": [
    {
     "data": {
      "image/png": "[encoded data removed]",
      "text/plain": [
       "<Figure size 640x480 with 1 Axes>"
      ]
     },
     "metadata": {},
     "output_type": "display_data"
    }
   ],
   "source": [
    "bp = data_raw.boxplot(column=\"totalAmount\",by=\"returnLabel\")\n"
   ]
  },
  {
   "cell_type": "markdown",
   "id": "1e08b28e",
   "metadata": {},
   "source": [
    "Displot -> x=returnLabel  y=totalAmount"
   ]
  },
  {
   "cell_type": "code",
   "execution_count": 12,
   "id": "a9c216fa",
   "metadata": {},
   "outputs": [
    {
     "data": {
      "text/plain": [
       "<seaborn.axisgrid.FacetGrid at 0x124d51f8190>"
      ]
     },
     "execution_count": 12,
     "metadata": {},
     "output_type": "execute_result"
    },
    {
     "data": {
      "image/png": "[encoded data removed]",
      "text/plain": [
       "<Figure size 500x500 with 1 Axes>"
      ]
     },
     "metadata": {},
     "output_type": "display_data"
    }
   ],
   "source": [
    "import seaborn as sb\n",
    "sb.displot(data_raw, x=\"returnLabel\", y=\"totalAmount\")"
   ]
  },
  {
   "cell_type": "markdown",
   "id": "7777075b",
   "metadata": {},
   "source": [
    "## Schritt 3"
   ]
  },
  {
   "cell_type": "markdown",
   "id": "4dc5b52c",
   "metadata": {},
   "source": [
    "Auffüllen der fehlenden Daten <br>\n",
    "totalAmount => average<br>\n",
    "customerType => das was am meisten vorkommt\n"
   ]
  },
  {
   "cell_type": "code",
   "execution_count": 13,
   "id": "36f761a0",
   "metadata": {},
   "outputs": [
    {
     "data": {
      "text/plain": [
       "transactionId      0\n",
       "basket             0\n",
       "customerType     442\n",
       "totalAmount      477\n",
       "returnLabel        0\n",
       "dtype: int64"
      ]
     },
     "execution_count": 13,
     "metadata": {},
     "output_type": "execute_result"
    }
   ],
   "source": [
    "data_raw.isna().sum()"
   ]
  },
  {
   "cell_type": "code",
   "execution_count": 14,
   "id": "12f8f395",
   "metadata": {},
   "outputs": [],
   "source": [
    "totalAmount_avg=data_raw[\"totalAmount\"].mean()\n",
    "data_raw[\"totalAmount\"]=data_raw[\"totalAmount\"].fillna(totalAmount_avg)"
   ]
  },
  {
   "cell_type": "code",
   "execution_count": 15,
   "id": "92b54b44",
   "metadata": {},
   "outputs": [
    {
     "data": {
      "text/plain": [
       "(15426, 5)"
      ]
     },
     "execution_count": 15,
     "metadata": {},
     "output_type": "execute_result"
    }
   ],
   "source": [
    "df_Cust_Existing.shape"
   ]
  },
  {
   "cell_type": "code",
   "execution_count": 16,
   "id": "f810bca6",
   "metadata": {},
   "outputs": [
    {
     "data": {
      "text/plain": [
       "(6532, 5)"
      ]
     },
     "execution_count": 16,
     "metadata": {},
     "output_type": "execute_result"
    }
   ],
   "source": [
    "df_Cust_New.shape"
   ]
  },
  {
   "attachments": {},
   "cell_type": "markdown",
   "id": "77db1e24",
   "metadata": {},
   "source": [
    "existing > new also befüllt man mit existing"
   ]
  },
  {
   "cell_type": "code",
   "execution_count": 17,
   "id": "054e806f",
   "metadata": {},
   "outputs": [],
   "source": [
    "data_raw[\"customerType\"] = data_raw[\"customerType\"].fillna(\"existing\")"
   ]
  },
  {
   "cell_type": "code",
   "execution_count": 18,
   "id": "d0e81ef2",
   "metadata": {},
   "outputs": [
    {
     "data": {
      "text/plain": [
       "transactionId    0\n",
       "basket           0\n",
       "customerType     0\n",
       "totalAmount      0\n",
       "returnLabel      0\n",
       "dtype: int64"
      ]
     },
     "execution_count": 18,
     "metadata": {},
     "output_type": "execute_result"
    }
   ],
   "source": [
    "data_raw.isna().sum()"
   ]
  },
  {
   "cell_type": "markdown",
   "id": "7c210cde",
   "metadata": {},
   "source": [
    "## Schritt 4"
   ]
  },
  {
   "cell_type": "markdown",
   "id": "c736511a",
   "metadata": {},
   "source": [
    "One-Hot-Encoding\n",
    "customerType"
   ]
  },
  {
   "cell_type": "code",
   "execution_count": 19,
   "id": "52ecd399",
   "metadata": {},
   "outputs": [
    {
     "data": {
      "text/html": [
       "<div>\n",
       "<style scoped>\n",
       "    .dataframe tbody tr th:only-of-type {\n",
       "        vertical-align: middle;\n",
       "    }\n",
       "\n",
       "    .dataframe tbody tr th {\n",
       "        vertical-align: top;\n",
       "    }\n",
       "\n",
       "    .dataframe thead th {\n",
       "        text-align: right;\n",
       "    }\n",
       "</style>\n",
       "<table border=\"1\" class=\"dataframe\">\n",
       "  <thead>\n",
       "    <tr style=\"text-align: right;\">\n",
       "      <th></th>\n",
       "      <th>existing</th>\n",
       "      <th>new</th>\n",
       "    </tr>\n",
       "  </thead>\n",
       "  <tbody>\n",
       "    <tr>\n",
       "      <th>0</th>\n",
       "      <td>0</td>\n",
       "      <td>1</td>\n",
       "    </tr>\n",
       "    <tr>\n",
       "      <th>1</th>\n",
       "      <td>1</td>\n",
       "      <td>0</td>\n",
       "    </tr>\n",
       "    <tr>\n",
       "      <th>2</th>\n",
       "      <td>1</td>\n",
       "      <td>0</td>\n",
       "    </tr>\n",
       "    <tr>\n",
       "      <th>3</th>\n",
       "      <td>1</td>\n",
       "      <td>0</td>\n",
       "    </tr>\n",
       "    <tr>\n",
       "      <th>4</th>\n",
       "      <td>1</td>\n",
       "      <td>0</td>\n",
       "    </tr>\n",
       "  </tbody>\n",
       "</table>\n",
       "</div>"
      ],
      "text/plain": [
       "   existing  new\n",
       "0         0    1\n",
       "1         1    0\n",
       "2         1    0\n",
       "3         1    0\n",
       "4         1    0"
      ]
     },
     "execution_count": 19,
     "metadata": {},
     "output_type": "execute_result"
    }
   ],
   "source": [
    "one_hot_feature_1 = pd.get_dummies(data_raw[\"customerType\"])\n",
    "one_hot_feature_1.head()"
   ]
  },
  {
   "cell_type": "code",
   "execution_count": 20,
   "id": "e1855829",
   "metadata": {},
   "outputs": [
    {
     "data": {
      "text/html": [
       "<div>\n",
       "<style scoped>\n",
       "    .dataframe tbody tr th:only-of-type {\n",
       "        vertical-align: middle;\n",
       "    }\n",
       "\n",
       "    .dataframe tbody tr th {\n",
       "        vertical-align: top;\n",
       "    }\n",
       "\n",
       "    .dataframe thead th {\n",
       "        text-align: right;\n",
       "    }\n",
       "</style>\n",
       "<table border=\"1\" class=\"dataframe\">\n",
       "  <thead>\n",
       "    <tr style=\"text-align: right;\">\n",
       "      <th></th>\n",
       "      <th>transactionId</th>\n",
       "      <th>basket</th>\n",
       "      <th>customerType</th>\n",
       "      <th>totalAmount</th>\n",
       "      <th>returnLabel</th>\n",
       "      <th>existing</th>\n",
       "      <th>new</th>\n",
       "    </tr>\n",
       "  </thead>\n",
       "  <tbody>\n",
       "    <tr>\n",
       "      <th>0</th>\n",
       "      <td>9534310106</td>\n",
       "      <td>[4, 3, 4]</td>\n",
       "      <td>new</td>\n",
       "      <td>252.0</td>\n",
       "      <td>1</td>\n",
       "      <td>0</td>\n",
       "      <td>1</td>\n",
       "    </tr>\n",
       "    <tr>\n",
       "      <th>1</th>\n",
       "      <td>7202594767</td>\n",
       "      <td>[4, 2, 0, 2, 5]</td>\n",
       "      <td>existing</td>\n",
       "      <td>70.0</td>\n",
       "      <td>0</td>\n",
       "      <td>1</td>\n",
       "      <td>0</td>\n",
       "    </tr>\n",
       "    <tr>\n",
       "      <th>2</th>\n",
       "      <td>2737331698</td>\n",
       "      <td>[5]</td>\n",
       "      <td>existing</td>\n",
       "      <td>84.0</td>\n",
       "      <td>0</td>\n",
       "      <td>1</td>\n",
       "      <td>0</td>\n",
       "    </tr>\n",
       "    <tr>\n",
       "      <th>3</th>\n",
       "      <td>4868011733</td>\n",
       "      <td>[1, 4, 2, 4]</td>\n",
       "      <td>existing</td>\n",
       "      <td>116.0</td>\n",
       "      <td>0</td>\n",
       "      <td>1</td>\n",
       "      <td>0</td>\n",
       "    </tr>\n",
       "    <tr>\n",
       "      <th>4</th>\n",
       "      <td>7622406570</td>\n",
       "      <td>[2, 5, 3, 2, 3, 2, 0]</td>\n",
       "      <td>existing</td>\n",
       "      <td>378.0</td>\n",
       "      <td>0</td>\n",
       "      <td>1</td>\n",
       "      <td>0</td>\n",
       "    </tr>\n",
       "  </tbody>\n",
       "</table>\n",
       "</div>"
      ],
      "text/plain": [
       "   transactionId                 basket customerType  totalAmount  \\\n",
       "0     9534310106              [4, 3, 4]          new        252.0   \n",
       "1     7202594767        [4, 2, 0, 2, 5]     existing         70.0   \n",
       "2     2737331698                    [5]     existing         84.0   \n",
       "3     4868011733           [1, 4, 2, 4]     existing        116.0   \n",
       "4     7622406570  [2, 5, 3, 2, 3, 2, 0]     existing        378.0   \n",
       "\n",
       "   returnLabel  existing  new  \n",
       "0            1         0    1  \n",
       "1            0         1    0  \n",
       "2            0         1    0  \n",
       "3            0         1    0  \n",
       "4            0         1    0  "
      ]
     },
     "execution_count": 20,
     "metadata": {},
     "output_type": "execute_result"
    }
   ],
   "source": [
    "data_raw = pd.concat([data_raw, one_hot_feature_1], axis=1)\n",
    "data_raw.head()"
   ]
  },
  {
   "cell_type": "markdown",
   "id": "d8eab08c",
   "metadata": {},
   "source": [
    "## Schritt 5"
   ]
  },
  {
   "cell_type": "markdown",
   "id": "56292a0d",
   "metadata": {},
   "source": [
    "Basket - Features erstellen"
   ]
  },
  {
   "cell_type": "code",
   "execution_count": 21,
   "id": "a24ca6c7",
   "metadata": {},
   "outputs": [
    {
     "data": {
      "text/html": [
       "<div>\n",
       "<style scoped>\n",
       "    .dataframe tbody tr th:only-of-type {\n",
       "        vertical-align: middle;\n",
       "    }\n",
       "\n",
       "    .dataframe tbody tr th {\n",
       "        vertical-align: top;\n",
       "    }\n",
       "\n",
       "    .dataframe thead th {\n",
       "        text-align: right;\n",
       "    }\n",
       "</style>\n",
       "<table border=\"1\" class=\"dataframe\">\n",
       "  <thead>\n",
       "    <tr style=\"text-align: right;\">\n",
       "      <th></th>\n",
       "      <th>transactionId</th>\n",
       "      <th>basket</th>\n",
       "      <th>customerType</th>\n",
       "      <th>totalAmount</th>\n",
       "      <th>returnLabel</th>\n",
       "      <th>existing</th>\n",
       "      <th>new</th>\n",
       "      <th>0</th>\n",
       "      <th>1</th>\n",
       "      <th>2</th>\n",
       "      <th>3</th>\n",
       "      <th>4</th>\n",
       "      <th>5</th>\n",
       "    </tr>\n",
       "  </thead>\n",
       "  <tbody>\n",
       "    <tr>\n",
       "      <th>0</th>\n",
       "      <td>9534310106</td>\n",
       "      <td>[4, 3, 4]</td>\n",
       "      <td>new</td>\n",
       "      <td>252.0</td>\n",
       "      <td>1</td>\n",
       "      <td>0</td>\n",
       "      <td>1</td>\n",
       "      <td>0</td>\n",
       "      <td>0</td>\n",
       "      <td>0</td>\n",
       "      <td>1</td>\n",
       "      <td>2</td>\n",
       "      <td>0</td>\n",
       "    </tr>\n",
       "    <tr>\n",
       "      <th>1</th>\n",
       "      <td>7202594767</td>\n",
       "      <td>[4, 2, 0, 2, 5]</td>\n",
       "      <td>existing</td>\n",
       "      <td>70.0</td>\n",
       "      <td>0</td>\n",
       "      <td>1</td>\n",
       "      <td>0</td>\n",
       "      <td>1</td>\n",
       "      <td>0</td>\n",
       "      <td>2</td>\n",
       "      <td>0</td>\n",
       "      <td>1</td>\n",
       "      <td>1</td>\n",
       "    </tr>\n",
       "    <tr>\n",
       "      <th>2</th>\n",
       "      <td>2737331698</td>\n",
       "      <td>[5]</td>\n",
       "      <td>existing</td>\n",
       "      <td>84.0</td>\n",
       "      <td>0</td>\n",
       "      <td>1</td>\n",
       "      <td>0</td>\n",
       "      <td>0</td>\n",
       "      <td>0</td>\n",
       "      <td>0</td>\n",
       "      <td>0</td>\n",
       "      <td>0</td>\n",
       "      <td>1</td>\n",
       "    </tr>\n",
       "    <tr>\n",
       "      <th>3</th>\n",
       "      <td>4868011733</td>\n",
       "      <td>[1, 4, 2, 4]</td>\n",
       "      <td>existing</td>\n",
       "      <td>116.0</td>\n",
       "      <td>0</td>\n",
       "      <td>1</td>\n",
       "      <td>0</td>\n",
       "      <td>0</td>\n",
       "      <td>1</td>\n",
       "      <td>1</td>\n",
       "      <td>0</td>\n",
       "      <td>2</td>\n",
       "      <td>0</td>\n",
       "    </tr>\n",
       "    <tr>\n",
       "      <th>4</th>\n",
       "      <td>7622406570</td>\n",
       "      <td>[2, 5, 3, 2, 3, 2, 0]</td>\n",
       "      <td>existing</td>\n",
       "      <td>378.0</td>\n",
       "      <td>0</td>\n",
       "      <td>1</td>\n",
       "      <td>0</td>\n",
       "      <td>1</td>\n",
       "      <td>0</td>\n",
       "      <td>3</td>\n",
       "      <td>2</td>\n",
       "      <td>0</td>\n",
       "      <td>1</td>\n",
       "    </tr>\n",
       "    <tr>\n",
       "      <th>5</th>\n",
       "      <td>5023376715</td>\n",
       "      <td>[3, 1, 3, 4]</td>\n",
       "      <td>existing</td>\n",
       "      <td>80.0</td>\n",
       "      <td>1</td>\n",
       "      <td>1</td>\n",
       "      <td>0</td>\n",
       "      <td>0</td>\n",
       "      <td>1</td>\n",
       "      <td>0</td>\n",
       "      <td>2</td>\n",
       "      <td>1</td>\n",
       "      <td>0</td>\n",
       "    </tr>\n",
       "    <tr>\n",
       "      <th>6</th>\n",
       "      <td>6369326559</td>\n",
       "      <td>[4, 0, 0, 0, 5, 1]</td>\n",
       "      <td>existing</td>\n",
       "      <td>60.0</td>\n",
       "      <td>0</td>\n",
       "      <td>1</td>\n",
       "      <td>0</td>\n",
       "      <td>3</td>\n",
       "      <td>1</td>\n",
       "      <td>0</td>\n",
       "      <td>0</td>\n",
       "      <td>1</td>\n",
       "      <td>1</td>\n",
       "    </tr>\n",
       "    <tr>\n",
       "      <th>7</th>\n",
       "      <td>6726314328</td>\n",
       "      <td>[2, 4, 4, 4, 4, 2, 4]</td>\n",
       "      <td>existing</td>\n",
       "      <td>616.0</td>\n",
       "      <td>1</td>\n",
       "      <td>1</td>\n",
       "      <td>0</td>\n",
       "      <td>0</td>\n",
       "      <td>0</td>\n",
       "      <td>2</td>\n",
       "      <td>0</td>\n",
       "      <td>5</td>\n",
       "      <td>0</td>\n",
       "    </tr>\n",
       "    <tr>\n",
       "      <th>8</th>\n",
       "      <td>3991839024</td>\n",
       "      <td>[4, 1, 4, 4, 2, 0, 0, 4, 4, 1]</td>\n",
       "      <td>existing</td>\n",
       "      <td>100.0</td>\n",
       "      <td>0</td>\n",
       "      <td>1</td>\n",
       "      <td>0</td>\n",
       "      <td>2</td>\n",
       "      <td>2</td>\n",
       "      <td>1</td>\n",
       "      <td>0</td>\n",
       "      <td>5</td>\n",
       "      <td>0</td>\n",
       "    </tr>\n",
       "    <tr>\n",
       "      <th>9</th>\n",
       "      <td>8428315544</td>\n",
       "      <td>[2, 0, 3, 2, 3, 1, 4, 1]</td>\n",
       "      <td>new</td>\n",
       "      <td>376.0</td>\n",
       "      <td>0</td>\n",
       "      <td>0</td>\n",
       "      <td>1</td>\n",
       "      <td>1</td>\n",
       "      <td>2</td>\n",
       "      <td>2</td>\n",
       "      <td>2</td>\n",
       "      <td>1</td>\n",
       "      <td>0</td>\n",
       "    </tr>\n",
       "  </tbody>\n",
       "</table>\n",
       "</div>"
      ],
      "text/plain": [
       "   transactionId                          basket customerType  totalAmount  \\\n",
       "0     9534310106                       [4, 3, 4]          new        252.0   \n",
       "1     7202594767                 [4, 2, 0, 2, 5]     existing         70.0   \n",
       "2     2737331698                             [5]     existing         84.0   \n",
       "3     4868011733                    [1, 4, 2, 4]     existing        116.0   \n",
       "4     7622406570           [2, 5, 3, 2, 3, 2, 0]     existing        378.0   \n",
       "5     5023376715                    [3, 1, 3, 4]     existing         80.0   \n",
       "6     6369326559              [4, 0, 0, 0, 5, 1]     existing         60.0   \n",
       "7     6726314328           [2, 4, 4, 4, 4, 2, 4]     existing        616.0   \n",
       "8     3991839024  [4, 1, 4, 4, 2, 0, 0, 4, 4, 1]     existing        100.0   \n",
       "9     8428315544        [2, 0, 3, 2, 3, 1, 4, 1]          new        376.0   \n",
       "\n",
       "   returnLabel  existing  new  0  1  2  3  4  5  \n",
       "0            1         0    1  0  0  0  1  2  0  \n",
       "1            0         1    0  1  0  2  0  1  1  \n",
       "2            0         1    0  0  0  0  0  0  1  \n",
       "3            0         1    0  0  1  1  0  2  0  \n",
       "4            0         1    0  1  0  3  2  0  1  \n",
       "5            1         1    0  0  1  0  2  1  0  \n",
       "6            0         1    0  3  1  0  0  1  1  \n",
       "7            1         1    0  0  0  2  0  5  0  \n",
       "8            0         1    0  2  2  1  0  5  0  \n",
       "9            0         0    1  1  2  2  2  1  0  "
      ]
     },
     "execution_count": 21,
     "metadata": {},
     "output_type": "execute_result"
    }
   ],
   "source": [
    "# @param x : zu zählende Kategorie (zwischen 0 und 5)\n",
    "# @param ls : liste (basket)\n",
    "def countCat(x,ls):\n",
    "    arr = ls.replace(\"[\",\"\").replace(\"]\",\"\").replace(\" \",\"\").split(\",\")\n",
    "    count = 0\n",
    "    for i in arr:\n",
    "       if int(i)==int(x):\n",
    "            count=count+1\n",
    "    return count\n",
    "\n",
    "# @param x : Kategorie (siehe countCat)\n",
    "# @param df : dataframe (data_raw)\n",
    "# @return arr : komplette Spalte mit der Anzahl der Kategorie wird als array returned\n",
    "def makeCountFeature(x, df):\n",
    "    arr = []\n",
    "    for i in df[\"basket\"]:\n",
    "        arr.append(countCat(x, i))\n",
    "    return arr\n",
    "\n",
    "# range 0,6 => von 0 bis 5\n",
    "# data_raw[input] braucht array\n",
    "for i in range (0,6):\n",
    "    data_raw[str(i)] = makeCountFeature(i, data_raw)\n",
    "\n",
    "data_raw.head(10)"
   ]
  },
  {
   "attachments": {},
   "cell_type": "markdown",
   "id": "a80ec362",
   "metadata": {},
   "source": [
    "## Schritt 6"
   ]
  },
  {
   "attachments": {},
   "cell_type": "markdown",
   "id": "3a34acb9",
   "metadata": {},
   "source": [
    "Skallieren der Features"
   ]
  },
  {
   "cell_type": "code",
   "execution_count": 22,
   "id": "9632b835",
   "metadata": {},
   "outputs": [
    {
     "data": {
      "text/html": [
       "<div>\n",
       "<style scoped>\n",
       "    .dataframe tbody tr th:only-of-type {\n",
       "        vertical-align: middle;\n",
       "    }\n",
       "\n",
       "    .dataframe tbody tr th {\n",
       "        vertical-align: top;\n",
       "    }\n",
       "\n",
       "    .dataframe thead th {\n",
       "        text-align: right;\n",
       "    }\n",
       "</style>\n",
       "<table border=\"1\" class=\"dataframe\">\n",
       "  <thead>\n",
       "    <tr style=\"text-align: right;\">\n",
       "      <th></th>\n",
       "      <th>totalAmount</th>\n",
       "      <th>existing</th>\n",
       "      <th>new</th>\n",
       "      <th>0</th>\n",
       "      <th>1</th>\n",
       "      <th>2</th>\n",
       "      <th>3</th>\n",
       "      <th>4</th>\n",
       "      <th>5</th>\n",
       "      <th>returnLabel</th>\n",
       "    </tr>\n",
       "  </thead>\n",
       "  <tbody>\n",
       "    <tr>\n",
       "      <th>0</th>\n",
       "      <td>252.0</td>\n",
       "      <td>0</td>\n",
       "      <td>1</td>\n",
       "      <td>0</td>\n",
       "      <td>0</td>\n",
       "      <td>0</td>\n",
       "      <td>1</td>\n",
       "      <td>2</td>\n",
       "      <td>0</td>\n",
       "      <td>1</td>\n",
       "    </tr>\n",
       "    <tr>\n",
       "      <th>1</th>\n",
       "      <td>70.0</td>\n",
       "      <td>1</td>\n",
       "      <td>0</td>\n",
       "      <td>1</td>\n",
       "      <td>0</td>\n",
       "      <td>2</td>\n",
       "      <td>0</td>\n",
       "      <td>1</td>\n",
       "      <td>1</td>\n",
       "      <td>0</td>\n",
       "    </tr>\n",
       "    <tr>\n",
       "      <th>2</th>\n",
       "      <td>84.0</td>\n",
       "      <td>1</td>\n",
       "      <td>0</td>\n",
       "      <td>0</td>\n",
       "      <td>0</td>\n",
       "      <td>0</td>\n",
       "      <td>0</td>\n",
       "      <td>0</td>\n",
       "      <td>1</td>\n",
       "      <td>0</td>\n",
       "    </tr>\n",
       "    <tr>\n",
       "      <th>3</th>\n",
       "      <td>116.0</td>\n",
       "      <td>1</td>\n",
       "      <td>0</td>\n",
       "      <td>0</td>\n",
       "      <td>1</td>\n",
       "      <td>1</td>\n",
       "      <td>0</td>\n",
       "      <td>2</td>\n",
       "      <td>0</td>\n",
       "      <td>0</td>\n",
       "    </tr>\n",
       "    <tr>\n",
       "      <th>4</th>\n",
       "      <td>378.0</td>\n",
       "      <td>1</td>\n",
       "      <td>0</td>\n",
       "      <td>1</td>\n",
       "      <td>0</td>\n",
       "      <td>3</td>\n",
       "      <td>2</td>\n",
       "      <td>0</td>\n",
       "      <td>1</td>\n",
       "      <td>0</td>\n",
       "    </tr>\n",
       "    <tr>\n",
       "      <th>5</th>\n",
       "      <td>80.0</td>\n",
       "      <td>1</td>\n",
       "      <td>0</td>\n",
       "      <td>0</td>\n",
       "      <td>1</td>\n",
       "      <td>0</td>\n",
       "      <td>2</td>\n",
       "      <td>1</td>\n",
       "      <td>0</td>\n",
       "      <td>1</td>\n",
       "    </tr>\n",
       "    <tr>\n",
       "      <th>6</th>\n",
       "      <td>60.0</td>\n",
       "      <td>1</td>\n",
       "      <td>0</td>\n",
       "      <td>3</td>\n",
       "      <td>1</td>\n",
       "      <td>0</td>\n",
       "      <td>0</td>\n",
       "      <td>1</td>\n",
       "      <td>1</td>\n",
       "      <td>0</td>\n",
       "    </tr>\n",
       "    <tr>\n",
       "      <th>7</th>\n",
       "      <td>616.0</td>\n",
       "      <td>1</td>\n",
       "      <td>0</td>\n",
       "      <td>0</td>\n",
       "      <td>0</td>\n",
       "      <td>2</td>\n",
       "      <td>0</td>\n",
       "      <td>5</td>\n",
       "      <td>0</td>\n",
       "      <td>1</td>\n",
       "    </tr>\n",
       "    <tr>\n",
       "      <th>8</th>\n",
       "      <td>100.0</td>\n",
       "      <td>1</td>\n",
       "      <td>0</td>\n",
       "      <td>2</td>\n",
       "      <td>2</td>\n",
       "      <td>1</td>\n",
       "      <td>0</td>\n",
       "      <td>5</td>\n",
       "      <td>0</td>\n",
       "      <td>0</td>\n",
       "    </tr>\n",
       "    <tr>\n",
       "      <th>9</th>\n",
       "      <td>376.0</td>\n",
       "      <td>0</td>\n",
       "      <td>1</td>\n",
       "      <td>1</td>\n",
       "      <td>2</td>\n",
       "      <td>2</td>\n",
       "      <td>2</td>\n",
       "      <td>1</td>\n",
       "      <td>0</td>\n",
       "      <td>0</td>\n",
       "    </tr>\n",
       "  </tbody>\n",
       "</table>\n",
       "</div>"
      ],
      "text/plain": [
       "   totalAmount  existing  new  0  1  2  3  4  5  returnLabel\n",
       "0        252.0         0    1  0  0  0  1  2  0            1\n",
       "1         70.0         1    0  1  0  2  0  1  1            0\n",
       "2         84.0         1    0  0  0  0  0  0  1            0\n",
       "3        116.0         1    0  0  1  1  0  2  0            0\n",
       "4        378.0         1    0  1  0  3  2  0  1            0\n",
       "5         80.0         1    0  0  1  0  2  1  0            1\n",
       "6         60.0         1    0  3  1  0  0  1  1            0\n",
       "7        616.0         1    0  0  0  2  0  5  0            1\n",
       "8        100.0         1    0  2  2  1  0  5  0            0\n",
       "9        376.0         0    1  1  2  2  2  1  0            0"
      ]
     },
     "execution_count": 22,
     "metadata": {},
     "output_type": "execute_result"
    }
   ],
   "source": [
    "df = data_raw[[\"totalAmount\",\"existing\",\"new\",\"0\",\"1\",\"2\",\"3\",\"4\",\"5\", \"returnLabel\"]]\n",
    "df.head(10)"
   ]
  },
  {
   "cell_type": "code",
   "execution_count": 23,
   "id": "ac49e3f5",
   "metadata": {},
   "outputs": [],
   "source": [
    "df_X = df.drop(columns=[\"returnLabel\"])\n",
    "df_y = df[\"returnLabel\"]\n",
    "\n",
    "scaler = StandardScaler()\n",
    "X_scaled = scaler.fit_transform(df_X)"
   ]
  },
  {
   "attachments": {},
   "cell_type": "markdown",
   "id": "6a6e6e54",
   "metadata": {},
   "source": [
    "## Schritt 7"
   ]
  },
  {
   "attachments": {},
   "cell_type": "markdown",
   "id": "f9376e9b",
   "metadata": {},
   "source": [
    "Trainieren mit Cross-Validation per Logistische Regression"
   ]
  },
  {
   "cell_type": "code",
   "execution_count": 24,
   "id": "56cf2475",
   "metadata": {},
   "outputs": [
    {
     "name": "stderr",
     "output_type": "stream",
     "text": [
      "c:\\Users\\krono\\miniconda3\\envs\\ml-env\\lib\\site-packages\\sklearn\\model_selection\\_validation.py:378: FitFailedWarning: \n",
      "45 fits failed out of a total of 80.\n",
      "The score on these train-test partitions for these parameters will be set to nan.\n",
      "If these failures are not expected, you can try to debug them by setting error_score='raise'.\n",
      "\n",
      "Below are more details about the failures:\n",
      "--------------------------------------------------------------------------------\n",
      "40 fits failed with the following error:\n",
      "Traceback (most recent call last):\n",
      "  File \"c:\\Users\\krono\\miniconda3\\envs\\ml-env\\lib\\site-packages\\sklearn\\model_selection\\_validation.py\", line 686, in _fit_and_score\n",
      "    estimator.fit(X_train, y_train, **fit_params)\n",
      "  File \"c:\\Users\\krono\\miniconda3\\envs\\ml-env\\lib\\site-packages\\sklearn\\linear_model\\_logistic.py\", line 1672, in fit\n",
      "    solver = _check_solver(self.solver, self.penalty, self.dual)\n",
      "  File \"c:\\Users\\krono\\miniconda3\\envs\\ml-env\\lib\\site-packages\\sklearn\\linear_model\\_logistic.py\", line 61, in _check_solver\n",
      "    raise ValueError(\n",
      "ValueError: Solver lbfgs supports only 'l2' or 'none' penalties, got l1 penalty.\n",
      "\n",
      "--------------------------------------------------------------------------------\n",
      "5 fits failed with the following error:\n",
      "Traceback (most recent call last):\n",
      "  File \"c:\\Users\\krono\\miniconda3\\envs\\ml-env\\lib\\site-packages\\sklearn\\model_selection\\_validation.py\", line 686, in _fit_and_score\n",
      "    estimator.fit(X_train, y_train, **fit_params)\n",
      "  File \"c:\\Users\\krono\\miniconda3\\envs\\ml-env\\lib\\site-packages\\sklearn\\linear_model\\_logistic.py\", line 1795, in fit\n",
      "    fold_coefs_ = Parallel(n_jobs=self.n_jobs, verbose=self.verbose, prefer=prefer)(\n",
      "  File \"c:\\Users\\krono\\miniconda3\\envs\\ml-env\\lib\\site-packages\\joblib\\parallel.py\", line 1043, in __call__\n",
      "    if self.dispatch_one_batch(iterator):\n",
      "  File \"c:\\Users\\krono\\miniconda3\\envs\\ml-env\\lib\\site-packages\\joblib\\parallel.py\", line 861, in dispatch_one_batch\n",
      "    self._dispatch(tasks)\n",
      "  File \"c:\\Users\\krono\\miniconda3\\envs\\ml-env\\lib\\site-packages\\joblib\\parallel.py\", line 779, in _dispatch\n",
      "    job = self._backend.apply_async(batch, callback=cb)\n",
      "  File \"c:\\Users\\krono\\miniconda3\\envs\\ml-env\\lib\\site-packages\\joblib\\_parallel_backends.py\", line 208, in apply_async\n",
      "    result = ImmediateResult(func)\n",
      "  File \"c:\\Users\\krono\\miniconda3\\envs\\ml-env\\lib\\site-packages\\joblib\\_parallel_backends.py\", line 572, in __init__\n",
      "    self.results = batch()\n",
      "  File \"c:\\Users\\krono\\miniconda3\\envs\\ml-env\\lib\\site-packages\\joblib\\parallel.py\", line 262, in __call__\n",
      "    return [func(*args, **kwargs)\n",
      "  File \"c:\\Users\\krono\\miniconda3\\envs\\ml-env\\lib\\site-packages\\joblib\\parallel.py\", line 262, in <listcomp>\n",
      "    return [func(*args, **kwargs)\n",
      "  File \"c:\\Users\\krono\\miniconda3\\envs\\ml-env\\lib\\site-packages\\sklearn\\utils\\fixes.py\", line 117, in __call__\n",
      "    return self.function(*args, **kwargs)\n",
      "  File \"c:\\Users\\krono\\miniconda3\\envs\\ml-env\\lib\\site-packages\\sklearn\\linear_model\\_logistic.py\", line 694, in _log_reg_scoring_path\n",
      "    coefs, Cs, n_iter = _logistic_regression_path(\n",
      "  File \"c:\\Users\\krono\\miniconda3\\envs\\ml-env\\lib\\site-packages\\sklearn\\linear_model\\_logistic.py\", line 429, in _logistic_regression_path\n",
      "    n_iter = np.zeros(len(Cs), dtype=np.int32)\n",
      "TypeError: object of type 'float' has no len()\n",
      "\n",
      "  warnings.warn(some_fits_failed_message, FitFailedWarning)\n",
      "c:\\Users\\krono\\miniconda3\\envs\\ml-env\\lib\\site-packages\\sklearn\\model_selection\\_search.py:953: UserWarning: One or more of the test scores are non-finite: [       nan        nan        nan 0.77821429        nan 0.87870536\n",
      "        nan 0.87875           nan 0.87861607        nan 0.87857143\n",
      "        nan 0.8784375         nan 0.8784375 ]\n",
      "  warnings.warn(\n"
     ]
    },
    {
     "data": {
      "text/html": [
       "<style>#sk-container-id-1 {color: black;background-color: white;}#sk-container-id-1 pre{padding: 0;}#sk-container-id-1 div.sk-toggleable {background-color: white;}#sk-container-id-1 label.sk-toggleable__label {cursor: pointer;display: block;width: 100%;margin-bottom: 0;padding: 0.3em;box-sizing: border-box;text-align: center;}#sk-container-id-1 label.sk-toggleable__label-arrow:before {content: \"▸\";float: left;margin-right: 0.25em;color: #696969;}#sk-container-id-1 label.sk-toggleable__label-arrow:hover:before {color: black;}#sk-container-id-1 div.sk-estimator:hover label.sk-toggleable__label-arrow:before {color: black;}#sk-container-id-1 div.sk-toggleable__content {max-height: 0;max-width: 0;overflow: hidden;text-align: left;background-color: #f0f8ff;}#sk-container-id-1 div.sk-toggleable__content pre {margin: 0.2em;color: black;border-radius: 0.25em;background-color: #f0f8ff;}#sk-container-id-1 input.sk-toggleable__control:checked~div.sk-toggleable__content {max-height: 200px;max-width: 100%;overflow: auto;}#sk-container-id-1 input.sk-toggleable__control:checked~label.sk-toggleable__label-arrow:before {content: \"▾\";}#sk-container-id-1 div.sk-estimator input.sk-toggleable__control:checked~label.sk-toggleable__label {background-color: #d4ebff;}#sk-container-id-1 div.sk-label input.sk-toggleable__control:checked~label.sk-toggleable__label {background-color: #d4ebff;}#sk-container-id-1 input.sk-hidden--visually {border: 0;clip: rect(1px 1px 1px 1px);clip: rect(1px, 1px, 1px, 1px);height: 1px;margin: -1px;overflow: hidden;padding: 0;position: absolute;width: 1px;}#sk-container-id-1 div.sk-estimator {font-family: monospace;background-color: #f0f8ff;border: 1px dotted black;border-radius: 0.25em;box-sizing: border-box;margin-bottom: 0.5em;}#sk-container-id-1 div.sk-estimator:hover {background-color: #d4ebff;}#sk-container-id-1 div.sk-parallel-item::after {content: \"\";width: 100%;border-bottom: 1px solid gray;flex-grow: 1;}#sk-container-id-1 div.sk-label:hover label.sk-toggleable__label {background-color: #d4ebff;}#sk-container-id-1 div.sk-serial::before {content: \"\";position: absolute;border-left: 1px solid gray;box-sizing: border-box;top: 0;bottom: 0;left: 50%;z-index: 0;}#sk-container-id-1 div.sk-serial {display: flex;flex-direction: column;align-items: center;background-color: white;padding-right: 0.2em;padding-left: 0.2em;position: relative;}#sk-container-id-1 div.sk-item {position: relative;z-index: 1;}#sk-container-id-1 div.sk-parallel {display: flex;align-items: stretch;justify-content: center;background-color: white;position: relative;}#sk-container-id-1 div.sk-item::before, #sk-container-id-1 div.sk-parallel-item::before {content: \"\";position: absolute;border-left: 1px solid gray;box-sizing: border-box;top: 0;bottom: 0;left: 50%;z-index: -1;}#sk-container-id-1 div.sk-parallel-item {display: flex;flex-direction: column;z-index: 1;position: relative;background-color: white;}#sk-container-id-1 div.sk-parallel-item:first-child::after {align-self: flex-end;width: 50%;}#sk-container-id-1 div.sk-parallel-item:last-child::after {align-self: flex-start;width: 50%;}#sk-container-id-1 div.sk-parallel-item:only-child::after {width: 0;}#sk-container-id-1 div.sk-dashed-wrapped {border: 1px dashed gray;margin: 0 0.4em 0.5em 0.4em;box-sizing: border-box;padding-bottom: 0.4em;background-color: white;}#sk-container-id-1 div.sk-label label {font-family: monospace;font-weight: bold;display: inline-block;line-height: 1.2em;}#sk-container-id-1 div.sk-label-container {text-align: center;}#sk-container-id-1 div.sk-container {/* jupyter's `normalize.less` sets `[hidden] { display: none; }` but bootstrap.min.css set `[hidden] { display: none !important; }` so we also need the `!important` here to be able to override the default hidden behavior on the sphinx rendered scikit-learn.org. See: https://github.com/scikit-learn/scikit-learn/issues/21755 */display: inline-block !important;position: relative;}#sk-container-id-1 div.sk-text-repr-fallback {display: none;}</style><div id=\"sk-container-id-1\" class=\"sk-top-container\"><div class=\"sk-text-repr-fallback\"><pre>GridSearchCV(estimator=LogisticRegressionCV(Cs=[0.1, 1, 4, 5, 6, 10, 30, 100],\n",
       "                                            penalty={&#x27;l2&#x27;, &#x27;l1&#x27;},\n",
       "                                            random_state=0),\n",
       "             n_jobs=-1,\n",
       "             param_grid=[{&#x27;Cs&#x27;: [0.1, 1, 4, 5, 6, 10, 30, 100],\n",
       "                          &#x27;penalty&#x27;: [&#x27;l1&#x27;, &#x27;l2&#x27;]}])</pre><b>In a Jupyter environment, please rerun this cell to show the HTML representation or trust the notebook. <br />On GitHub, the HTML representation is unable to render, please try loading this page with nbviewer.org.</b></div><div class=\"sk-container\" hidden><div class=\"sk-item sk-dashed-wrapped\"><div class=\"sk-label-container\"><div class=\"sk-label sk-toggleable\"><input class=\"sk-toggleable__control sk-hidden--visually\" id=\"sk-estimator-id-1\" type=\"checkbox\" ><label for=\"sk-estimator-id-1\" class=\"sk-toggleable__label sk-toggleable__label-arrow\">GridSearchCV</label><div class=\"sk-toggleable__content\"><pre>GridSearchCV(estimator=LogisticRegressionCV(Cs=[0.1, 1, 4, 5, 6, 10, 30, 100],\n",
       "                                            penalty={&#x27;l2&#x27;, &#x27;l1&#x27;},\n",
       "                                            random_state=0),\n",
       "             n_jobs=-1,\n",
       "             param_grid=[{&#x27;Cs&#x27;: [0.1, 1, 4, 5, 6, 10, 30, 100],\n",
       "                          &#x27;penalty&#x27;: [&#x27;l1&#x27;, &#x27;l2&#x27;]}])</pre></div></div></div><div class=\"sk-parallel\"><div class=\"sk-parallel-item\"><div class=\"sk-item\"><div class=\"sk-label-container\"><div class=\"sk-label sk-toggleable\"><input class=\"sk-toggleable__control sk-hidden--visually\" id=\"sk-estimator-id-2\" type=\"checkbox\" ><label for=\"sk-estimator-id-2\" class=\"sk-toggleable__label sk-toggleable__label-arrow\">estimator: LogisticRegressionCV</label><div class=\"sk-toggleable__content\"><pre>LogisticRegressionCV(Cs=[0.1, 1, 4, 5, 6, 10, 30, 100], penalty={&#x27;l2&#x27;, &#x27;l1&#x27;},\n",
       "                     random_state=0)</pre></div></div></div><div class=\"sk-serial\"><div class=\"sk-item\"><div class=\"sk-estimator sk-toggleable\"><input class=\"sk-toggleable__control sk-hidden--visually\" id=\"sk-estimator-id-3\" type=\"checkbox\" ><label for=\"sk-estimator-id-3\" class=\"sk-toggleable__label sk-toggleable__label-arrow\">LogisticRegressionCV</label><div class=\"sk-toggleable__content\"><pre>LogisticRegressionCV(Cs=[0.1, 1, 4, 5, 6, 10, 30, 100], penalty={&#x27;l2&#x27;, &#x27;l1&#x27;},\n",
       "                     random_state=0)</pre></div></div></div></div></div></div></div></div></div></div>"
      ],
      "text/plain": [
       "GridSearchCV(estimator=LogisticRegressionCV(Cs=[0.1, 1, 4, 5, 6, 10, 30, 100],\n",
       "                                            penalty={'l2', 'l1'},\n",
       "                                            random_state=0),\n",
       "             n_jobs=-1,\n",
       "             param_grid=[{'Cs': [0.1, 1, 4, 5, 6, 10, 30, 100],\n",
       "                          'penalty': ['l1', 'l2']}])"
      ]
     },
     "execution_count": 24,
     "metadata": {},
     "output_type": "execute_result"
    }
   ],
   "source": [
    "from sklearn.linear_model import LogisticRegressionCV\n",
    "from sklearn.model_selection import GridSearchCV\n",
    "\n",
    "parameter_candidates_logistic = [{'Cs':[0.1,1,4,5,6,10,30,100], 'penalty':['l1','l2']}]\n",
    "parameter_candidates_random_forest = [{'max_depth': [2, 4, 6], 'n_estimators': [60,80,100,120,140]}]\n",
    "#Parameter bei GBT wie bei Random forest\n",
    "\n",
    "logisticReg = LogisticRegressionCV(random_state=0, penalty={'l1','l2'}, Cs=[0.1,1,4,5,6,10,30,100])\n",
    "grid_clf_logistic = GridSearchCV(estimator=logisticReg, param_grid=parameter_candidates_logistic, n_jobs=-1)\n",
    "grid_clf_logistic.fit(X_scaled, df_y)"
   ]
  },
  {
   "cell_type": "code",
   "execution_count": 25,
   "id": "fc2fd868",
   "metadata": {},
   "outputs": [
    {
     "name": "stdout",
     "output_type": "stream",
     "text": [
      "Best C: 5\n",
      "Best penalty: l2\n",
      "Best score: 0.8787500000000001\n"
     ]
    }
   ],
   "source": [
    "print('Best C:', grid_clf_logistic.best_estimator_.Cs) \n",
    "print('Best penalty:', grid_clf_logistic.best_estimator_.penalty)\n",
    "print('Best score:', grid_clf_logistic.best_score_)"
   ]
  },
  {
   "attachments": {},
   "cell_type": "markdown",
   "id": "05e6e71b",
   "metadata": {},
   "source": [
    "Trainieren mit Cross-Validation per RandomForest"
   ]
  },
  {
   "cell_type": "code",
   "execution_count": 26,
   "id": "4de82888",
   "metadata": {},
   "outputs": [
    {
     "name": "stdout",
     "output_type": "stream",
     "text": [
      "Best n_estimator: 120\n",
      "Best max depth: 6\n",
      "Best score: 0.8685267857142858\n"
     ]
    }
   ],
   "source": [
    "from sklearn.ensemble import RandomForestClassifier\n",
    "\n",
    "randomForest = RandomForestClassifier(random_state=0)\n",
    "grid_clf_rf = GridSearchCV(estimator=randomForest, param_grid=parameter_candidates_random_forest, n_jobs=-1)\n",
    "grid_clf_rf.fit(X_scaled, df_y)\n",
    "\n",
    "print('Best n_estimator:', grid_clf_rf.best_estimator_.n_estimators) \n",
    "print('Best max depth:', grid_clf_rf.best_estimator_.max_depth)\n",
    "print('Best score:', grid_clf_rf.best_score_)"
   ]
  },
  {
   "cell_type": "code",
   "execution_count": 27,
   "id": "e5b262d3",
   "metadata": {},
   "outputs": [
    {
     "name": "stdout",
     "output_type": "stream",
     "text": [
      "Best n_estimator: 100\n",
      "Best max depth: 4\n",
      "Best score: 0.8788839285714285\n"
     ]
    }
   ],
   "source": [
    "from sklearn.ensemble import GradientBoostingClassifier\n",
    "\n",
    "gradientBoostingTree = GradientBoostingClassifier(random_state=0)\n",
    "grid_clf_gbt = GridSearchCV(estimator=gradientBoostingTree, param_grid=parameter_candidates_random_forest, n_jobs=-1)\n",
    "grid_clf_gbt.fit(X_scaled, df_y)\n",
    "\n",
    "print('Best n_estimator:', grid_clf_gbt.best_estimator_.n_estimators) \n",
    "print('Best max depth:', grid_clf_gbt.best_estimator_.max_depth) \n",
    "print('Best score:', grid_clf_gbt.best_score_)"
   ]
  },
  {
   "attachments": {},
   "cell_type": "markdown",
   "id": "776496ca",
   "metadata": {},
   "source": [
    "# Schritt 8"
   ]
  },
  {
   "attachments": {},
   "cell_type": "markdown",
   "id": "6bfba39f",
   "metadata": {},
   "source": [
    "Laden der Testdaten"
   ]
  },
  {
   "cell_type": "code",
   "execution_count": 28,
   "id": "b7030d43",
   "metadata": {},
   "outputs": [
    {
     "data": {
      "text/html": [
       "<div>\n",
       "<style scoped>\n",
       "    .dataframe tbody tr th:only-of-type {\n",
       "        vertical-align: middle;\n",
       "    }\n",
       "\n",
       "    .dataframe tbody tr th {\n",
       "        vertical-align: top;\n",
       "    }\n",
       "\n",
       "    .dataframe thead th {\n",
       "        text-align: right;\n",
       "    }\n",
       "</style>\n",
       "<table border=\"1\" class=\"dataframe\">\n",
       "  <thead>\n",
       "    <tr style=\"text-align: right;\">\n",
       "      <th></th>\n",
       "      <th>transactionId</th>\n",
       "      <th>basket</th>\n",
       "      <th>customerType</th>\n",
       "      <th>totalAmount</th>\n",
       "      <th>returnLabel</th>\n",
       "    </tr>\n",
       "  </thead>\n",
       "  <tbody>\n",
       "    <tr>\n",
       "      <th>0</th>\n",
       "      <td>4132523932</td>\n",
       "      <td>[4, 3, 4, 3, 2, 3]</td>\n",
       "      <td>existing</td>\n",
       "      <td>366.0</td>\n",
       "      <td>1</td>\n",
       "    </tr>\n",
       "    <tr>\n",
       "      <th>1</th>\n",
       "      <td>8998574539</td>\n",
       "      <td>[3, 4, 4, 3, 5]</td>\n",
       "      <td>existing</td>\n",
       "      <td>85.0</td>\n",
       "      <td>0</td>\n",
       "    </tr>\n",
       "    <tr>\n",
       "      <th>2</th>\n",
       "      <td>9346688547</td>\n",
       "      <td>[1, 1, 2, 2, 4, 4, 3, 1, 1, 0, 3]</td>\n",
       "      <td>existing</td>\n",
       "      <td>275.0</td>\n",
       "      <td>0</td>\n",
       "    </tr>\n",
       "    <tr>\n",
       "      <th>3</th>\n",
       "      <td>4533897707</td>\n",
       "      <td>[3, 2, 2, 1, 5, 1, 1, 0]</td>\n",
       "      <td>existing</td>\n",
       "      <td>528.0</td>\n",
       "      <td>0</td>\n",
       "    </tr>\n",
       "    <tr>\n",
       "      <th>4</th>\n",
       "      <td>3334800500</td>\n",
       "      <td>[4, 2, 3, 5, 2, 5, 1]</td>\n",
       "      <td>existing</td>\n",
       "      <td>287.0</td>\n",
       "      <td>0</td>\n",
       "    </tr>\n",
       "  </tbody>\n",
       "</table>\n",
       "</div>"
      ],
      "text/plain": [
       "   transactionId                             basket customerType  totalAmount  \\\n",
       "0     4132523932                 [4, 3, 4, 3, 2, 3]     existing        366.0   \n",
       "1     8998574539                    [3, 4, 4, 3, 5]     existing         85.0   \n",
       "2     9346688547  [1, 1, 2, 2, 4, 4, 3, 1, 1, 0, 3]     existing        275.0   \n",
       "3     4533897707           [3, 2, 2, 1, 5, 1, 1, 0]     existing        528.0   \n",
       "4     3334800500              [4, 2, 3, 5, 2, 5, 1]     existing        287.0   \n",
       "\n",
       "   returnLabel  \n",
       "0            1  \n",
       "1            0  \n",
       "2            0  \n",
       "3            0  \n",
       "4            0  "
      ]
     },
     "execution_count": 28,
     "metadata": {},
     "output_type": "execute_result"
    }
   ],
   "source": [
    "test_data = pd.read_csv(\"data/project/test.csv\", delimiter=';')\n",
    "test_data.head()"
   ]
  },
  {
   "cell_type": "code",
   "execution_count": 29,
   "id": "8f05d1c5",
   "metadata": {},
   "outputs": [
    {
     "data": {
      "text/plain": [
       "(9600, 5)"
      ]
     },
     "execution_count": 29,
     "metadata": {},
     "output_type": "execute_result"
    }
   ],
   "source": [
    "test_data.shape"
   ]
  },
  {
   "attachments": {},
   "cell_type": "markdown",
   "id": "d6e6a901",
   "metadata": {},
   "source": [
    "# Schritt 9"
   ]
  },
  {
   "attachments": {},
   "cell_type": "markdown",
   "id": "e5d3c231",
   "metadata": {},
   "source": [
    "Entfernen von fehlerhaften Zeilen (fehlende Werte) "
   ]
  },
  {
   "cell_type": "code",
   "execution_count": 30,
   "id": "30524260",
   "metadata": {},
   "outputs": [],
   "source": [
    "test_data = test_data.dropna()"
   ]
  },
  {
   "cell_type": "code",
   "execution_count": 31,
   "id": "6e90b07a",
   "metadata": {},
   "outputs": [
    {
     "data": {
      "text/plain": [
       "(9226, 5)"
      ]
     },
     "execution_count": 31,
     "metadata": {},
     "output_type": "execute_result"
    }
   ],
   "source": [
    "test_data.shape"
   ]
  },
  {
   "attachments": {},
   "cell_type": "markdown",
   "id": "89821199",
   "metadata": {},
   "source": [
    "von 9600 Zeilen auf 9226 Zeilen (fehlerhafte Zeilen : 9600 - 9226 = 374)"
   ]
  },
  {
   "attachments": {},
   "cell_type": "markdown",
   "id": "7b83b12d",
   "metadata": {},
   "source": [
    "# Schritt 10"
   ]
  },
  {
   "attachments": {},
   "cell_type": "markdown",
   "id": "2546eaaa",
   "metadata": {},
   "source": [
    "Transformieren der Attribute (wie die Trainingsdaten)"
   ]
  },
  {
   "attachments": {},
   "cell_type": "markdown",
   "id": "b1ddedca",
   "metadata": {},
   "source": [
    "One-Hot-Encoding von customerType:"
   ]
  },
  {
   "cell_type": "code",
   "execution_count": 32,
   "id": "6bd57ea7",
   "metadata": {},
   "outputs": [
    {
     "data": {
      "text/html": [
       "<div>\n",
       "<style scoped>\n",
       "    .dataframe tbody tr th:only-of-type {\n",
       "        vertical-align: middle;\n",
       "    }\n",
       "\n",
       "    .dataframe tbody tr th {\n",
       "        vertical-align: top;\n",
       "    }\n",
       "\n",
       "    .dataframe thead th {\n",
       "        text-align: right;\n",
       "    }\n",
       "</style>\n",
       "<table border=\"1\" class=\"dataframe\">\n",
       "  <thead>\n",
       "    <tr style=\"text-align: right;\">\n",
       "      <th></th>\n",
       "      <th>existing</th>\n",
       "      <th>new</th>\n",
       "    </tr>\n",
       "  </thead>\n",
       "  <tbody>\n",
       "    <tr>\n",
       "      <th>0</th>\n",
       "      <td>1</td>\n",
       "      <td>0</td>\n",
       "    </tr>\n",
       "    <tr>\n",
       "      <th>1</th>\n",
       "      <td>1</td>\n",
       "      <td>0</td>\n",
       "    </tr>\n",
       "    <tr>\n",
       "      <th>2</th>\n",
       "      <td>1</td>\n",
       "      <td>0</td>\n",
       "    </tr>\n",
       "    <tr>\n",
       "      <th>3</th>\n",
       "      <td>1</td>\n",
       "      <td>0</td>\n",
       "    </tr>\n",
       "    <tr>\n",
       "      <th>4</th>\n",
       "      <td>1</td>\n",
       "      <td>0</td>\n",
       "    </tr>\n",
       "  </tbody>\n",
       "</table>\n",
       "</div>"
      ],
      "text/plain": [
       "   existing  new\n",
       "0         1    0\n",
       "1         1    0\n",
       "2         1    0\n",
       "3         1    0\n",
       "4         1    0"
      ]
     },
     "execution_count": 32,
     "metadata": {},
     "output_type": "execute_result"
    }
   ],
   "source": [
    "one_hot_feature_1 = pd.get_dummies(test_data[\"customerType\"])\n",
    "one_hot_feature_1.head()"
   ]
  },
  {
   "cell_type": "code",
   "execution_count": 33,
   "id": "8dc4d837",
   "metadata": {},
   "outputs": [
    {
     "data": {
      "text/html": [
       "<div>\n",
       "<style scoped>\n",
       "    .dataframe tbody tr th:only-of-type {\n",
       "        vertical-align: middle;\n",
       "    }\n",
       "\n",
       "    .dataframe tbody tr th {\n",
       "        vertical-align: top;\n",
       "    }\n",
       "\n",
       "    .dataframe thead th {\n",
       "        text-align: right;\n",
       "    }\n",
       "</style>\n",
       "<table border=\"1\" class=\"dataframe\">\n",
       "  <thead>\n",
       "    <tr style=\"text-align: right;\">\n",
       "      <th></th>\n",
       "      <th>transactionId</th>\n",
       "      <th>basket</th>\n",
       "      <th>customerType</th>\n",
       "      <th>totalAmount</th>\n",
       "      <th>returnLabel</th>\n",
       "      <th>existing</th>\n",
       "      <th>new</th>\n",
       "    </tr>\n",
       "  </thead>\n",
       "  <tbody>\n",
       "    <tr>\n",
       "      <th>0</th>\n",
       "      <td>4132523932</td>\n",
       "      <td>[4, 3, 4, 3, 2, 3]</td>\n",
       "      <td>existing</td>\n",
       "      <td>366.0</td>\n",
       "      <td>1</td>\n",
       "      <td>1</td>\n",
       "      <td>0</td>\n",
       "    </tr>\n",
       "    <tr>\n",
       "      <th>1</th>\n",
       "      <td>8998574539</td>\n",
       "      <td>[3, 4, 4, 3, 5]</td>\n",
       "      <td>existing</td>\n",
       "      <td>85.0</td>\n",
       "      <td>0</td>\n",
       "      <td>1</td>\n",
       "      <td>0</td>\n",
       "    </tr>\n",
       "    <tr>\n",
       "      <th>2</th>\n",
       "      <td>9346688547</td>\n",
       "      <td>[1, 1, 2, 2, 4, 4, 3, 1, 1, 0, 3]</td>\n",
       "      <td>existing</td>\n",
       "      <td>275.0</td>\n",
       "      <td>0</td>\n",
       "      <td>1</td>\n",
       "      <td>0</td>\n",
       "    </tr>\n",
       "    <tr>\n",
       "      <th>3</th>\n",
       "      <td>4533897707</td>\n",
       "      <td>[3, 2, 2, 1, 5, 1, 1, 0]</td>\n",
       "      <td>existing</td>\n",
       "      <td>528.0</td>\n",
       "      <td>0</td>\n",
       "      <td>1</td>\n",
       "      <td>0</td>\n",
       "    </tr>\n",
       "    <tr>\n",
       "      <th>4</th>\n",
       "      <td>3334800500</td>\n",
       "      <td>[4, 2, 3, 5, 2, 5, 1]</td>\n",
       "      <td>existing</td>\n",
       "      <td>287.0</td>\n",
       "      <td>0</td>\n",
       "      <td>1</td>\n",
       "      <td>0</td>\n",
       "    </tr>\n",
       "  </tbody>\n",
       "</table>\n",
       "</div>"
      ],
      "text/plain": [
       "   transactionId                             basket customerType  totalAmount  \\\n",
       "0     4132523932                 [4, 3, 4, 3, 2, 3]     existing        366.0   \n",
       "1     8998574539                    [3, 4, 4, 3, 5]     existing         85.0   \n",
       "2     9346688547  [1, 1, 2, 2, 4, 4, 3, 1, 1, 0, 3]     existing        275.0   \n",
       "3     4533897707           [3, 2, 2, 1, 5, 1, 1, 0]     existing        528.0   \n",
       "4     3334800500              [4, 2, 3, 5, 2, 5, 1]     existing        287.0   \n",
       "\n",
       "   returnLabel  existing  new  \n",
       "0            1         1    0  \n",
       "1            0         1    0  \n",
       "2            0         1    0  \n",
       "3            0         1    0  \n",
       "4            0         1    0  "
      ]
     },
     "execution_count": 33,
     "metadata": {},
     "output_type": "execute_result"
    }
   ],
   "source": [
    "test_data = pd.concat([test_data, one_hot_feature_1], axis=1)\n",
    "test_data.head()"
   ]
  },
  {
   "attachments": {},
   "cell_type": "markdown",
   "id": "c60b8f75",
   "metadata": {},
   "source": [
    "Basket-Features erstellen"
   ]
  },
  {
   "cell_type": "code",
   "execution_count": 34,
   "id": "f5c8b6c5",
   "metadata": {},
   "outputs": [
    {
     "data": {
      "text/html": [
       "<div>\n",
       "<style scoped>\n",
       "    .dataframe tbody tr th:only-of-type {\n",
       "        vertical-align: middle;\n",
       "    }\n",
       "\n",
       "    .dataframe tbody tr th {\n",
       "        vertical-align: top;\n",
       "    }\n",
       "\n",
       "    .dataframe thead th {\n",
       "        text-align: right;\n",
       "    }\n",
       "</style>\n",
       "<table border=\"1\" class=\"dataframe\">\n",
       "  <thead>\n",
       "    <tr style=\"text-align: right;\">\n",
       "      <th></th>\n",
       "      <th>transactionId</th>\n",
       "      <th>basket</th>\n",
       "      <th>customerType</th>\n",
       "      <th>totalAmount</th>\n",
       "      <th>returnLabel</th>\n",
       "      <th>existing</th>\n",
       "      <th>new</th>\n",
       "      <th>0</th>\n",
       "      <th>1</th>\n",
       "      <th>2</th>\n",
       "      <th>3</th>\n",
       "      <th>4</th>\n",
       "      <th>5</th>\n",
       "    </tr>\n",
       "  </thead>\n",
       "  <tbody>\n",
       "    <tr>\n",
       "      <th>0</th>\n",
       "      <td>4132523932</td>\n",
       "      <td>[4, 3, 4, 3, 2, 3]</td>\n",
       "      <td>existing</td>\n",
       "      <td>366.0</td>\n",
       "      <td>1</td>\n",
       "      <td>1</td>\n",
       "      <td>0</td>\n",
       "      <td>0</td>\n",
       "      <td>0</td>\n",
       "      <td>1</td>\n",
       "      <td>3</td>\n",
       "      <td>2</td>\n",
       "      <td>0</td>\n",
       "    </tr>\n",
       "    <tr>\n",
       "      <th>1</th>\n",
       "      <td>8998574539</td>\n",
       "      <td>[3, 4, 4, 3, 5]</td>\n",
       "      <td>existing</td>\n",
       "      <td>85.0</td>\n",
       "      <td>0</td>\n",
       "      <td>1</td>\n",
       "      <td>0</td>\n",
       "      <td>0</td>\n",
       "      <td>0</td>\n",
       "      <td>0</td>\n",
       "      <td>2</td>\n",
       "      <td>2</td>\n",
       "      <td>1</td>\n",
       "    </tr>\n",
       "    <tr>\n",
       "      <th>2</th>\n",
       "      <td>9346688547</td>\n",
       "      <td>[1, 1, 2, 2, 4, 4, 3, 1, 1, 0, 3]</td>\n",
       "      <td>existing</td>\n",
       "      <td>275.0</td>\n",
       "      <td>0</td>\n",
       "      <td>1</td>\n",
       "      <td>0</td>\n",
       "      <td>1</td>\n",
       "      <td>4</td>\n",
       "      <td>2</td>\n",
       "      <td>2</td>\n",
       "      <td>2</td>\n",
       "      <td>0</td>\n",
       "    </tr>\n",
       "    <tr>\n",
       "      <th>3</th>\n",
       "      <td>4533897707</td>\n",
       "      <td>[3, 2, 2, 1, 5, 1, 1, 0]</td>\n",
       "      <td>existing</td>\n",
       "      <td>528.0</td>\n",
       "      <td>0</td>\n",
       "      <td>1</td>\n",
       "      <td>0</td>\n",
       "      <td>1</td>\n",
       "      <td>3</td>\n",
       "      <td>2</td>\n",
       "      <td>1</td>\n",
       "      <td>0</td>\n",
       "      <td>1</td>\n",
       "    </tr>\n",
       "    <tr>\n",
       "      <th>4</th>\n",
       "      <td>3334800500</td>\n",
       "      <td>[4, 2, 3, 5, 2, 5, 1]</td>\n",
       "      <td>existing</td>\n",
       "      <td>287.0</td>\n",
       "      <td>0</td>\n",
       "      <td>1</td>\n",
       "      <td>0</td>\n",
       "      <td>0</td>\n",
       "      <td>1</td>\n",
       "      <td>2</td>\n",
       "      <td>1</td>\n",
       "      <td>1</td>\n",
       "      <td>2</td>\n",
       "    </tr>\n",
       "    <tr>\n",
       "      <th>6</th>\n",
       "      <td>2186728765</td>\n",
       "      <td>[2, 1, 0, 4, 0, 3, 1]</td>\n",
       "      <td>new</td>\n",
       "      <td>609.0</td>\n",
       "      <td>0</td>\n",
       "      <td>0</td>\n",
       "      <td>1</td>\n",
       "      <td>2</td>\n",
       "      <td>2</td>\n",
       "      <td>1</td>\n",
       "      <td>1</td>\n",
       "      <td>1</td>\n",
       "      <td>0</td>\n",
       "    </tr>\n",
       "    <tr>\n",
       "      <th>7</th>\n",
       "      <td>3199662184</td>\n",
       "      <td>[3, 4, 0, 2, 2, 3, 3]</td>\n",
       "      <td>existing</td>\n",
       "      <td>770.0</td>\n",
       "      <td>0</td>\n",
       "      <td>1</td>\n",
       "      <td>0</td>\n",
       "      <td>1</td>\n",
       "      <td>0</td>\n",
       "      <td>2</td>\n",
       "      <td>3</td>\n",
       "      <td>1</td>\n",
       "      <td>0</td>\n",
       "    </tr>\n",
       "    <tr>\n",
       "      <th>8</th>\n",
       "      <td>5402321657</td>\n",
       "      <td>[5]</td>\n",
       "      <td>existing</td>\n",
       "      <td>43.0</td>\n",
       "      <td>0</td>\n",
       "      <td>1</td>\n",
       "      <td>0</td>\n",
       "      <td>0</td>\n",
       "      <td>0</td>\n",
       "      <td>0</td>\n",
       "      <td>0</td>\n",
       "      <td>0</td>\n",
       "      <td>1</td>\n",
       "    </tr>\n",
       "    <tr>\n",
       "      <th>9</th>\n",
       "      <td>2412583752</td>\n",
       "      <td>[4]</td>\n",
       "      <td>new</td>\n",
       "      <td>50.0</td>\n",
       "      <td>1</td>\n",
       "      <td>0</td>\n",
       "      <td>1</td>\n",
       "      <td>0</td>\n",
       "      <td>0</td>\n",
       "      <td>0</td>\n",
       "      <td>0</td>\n",
       "      <td>1</td>\n",
       "      <td>0</td>\n",
       "    </tr>\n",
       "    <tr>\n",
       "      <th>10</th>\n",
       "      <td>6514158177</td>\n",
       "      <td>[1, 5, 0, 4, 1, 3, 0, 3]</td>\n",
       "      <td>existing</td>\n",
       "      <td>408.0</td>\n",
       "      <td>0</td>\n",
       "      <td>1</td>\n",
       "      <td>0</td>\n",
       "      <td>2</td>\n",
       "      <td>2</td>\n",
       "      <td>0</td>\n",
       "      <td>2</td>\n",
       "      <td>1</td>\n",
       "      <td>1</td>\n",
       "    </tr>\n",
       "  </tbody>\n",
       "</table>\n",
       "</div>"
      ],
      "text/plain": [
       "    transactionId                             basket customerType  \\\n",
       "0      4132523932                 [4, 3, 4, 3, 2, 3]     existing   \n",
       "1      8998574539                    [3, 4, 4, 3, 5]     existing   \n",
       "2      9346688547  [1, 1, 2, 2, 4, 4, 3, 1, 1, 0, 3]     existing   \n",
       "3      4533897707           [3, 2, 2, 1, 5, 1, 1, 0]     existing   \n",
       "4      3334800500              [4, 2, 3, 5, 2, 5, 1]     existing   \n",
       "6      2186728765              [2, 1, 0, 4, 0, 3, 1]          new   \n",
       "7      3199662184              [3, 4, 0, 2, 2, 3, 3]     existing   \n",
       "8      5402321657                                [5]     existing   \n",
       "9      2412583752                                [4]          new   \n",
       "10     6514158177           [1, 5, 0, 4, 1, 3, 0, 3]     existing   \n",
       "\n",
       "    totalAmount  returnLabel  existing  new  0  1  2  3  4  5  \n",
       "0         366.0            1         1    0  0  0  1  3  2  0  \n",
       "1          85.0            0         1    0  0  0  0  2  2  1  \n",
       "2         275.0            0         1    0  1  4  2  2  2  0  \n",
       "3         528.0            0         1    0  1  3  2  1  0  1  \n",
       "4         287.0            0         1    0  0  1  2  1  1  2  \n",
       "6         609.0            0         0    1  2  2  1  1  1  0  \n",
       "7         770.0            0         1    0  1  0  2  3  1  0  \n",
       "8          43.0            0         1    0  0  0  0  0  0  1  \n",
       "9          50.0            1         0    1  0  0  0  0  1  0  \n",
       "10        408.0            0         1    0  2  2  0  2  1  1  "
      ]
     },
     "execution_count": 34,
     "metadata": {},
     "output_type": "execute_result"
    }
   ],
   "source": [
    "for i in range (0,6):\n",
    "    test_data[str(i)] = makeCountFeature(i, test_data)\n",
    "\n",
    "test_data.head(10)"
   ]
  },
  {
   "attachments": {},
   "cell_type": "markdown",
   "id": "c30f8450",
   "metadata": {},
   "source": [
    "DataFrame endgültig anpassen (überflüssige Zeilen entfernen):"
   ]
  },
  {
   "cell_type": "code",
   "execution_count": 35,
   "id": "287c523f",
   "metadata": {},
   "outputs": [
    {
     "data": {
      "text/html": [
       "<div>\n",
       "<style scoped>\n",
       "    .dataframe tbody tr th:only-of-type {\n",
       "        vertical-align: middle;\n",
       "    }\n",
       "\n",
       "    .dataframe tbody tr th {\n",
       "        vertical-align: top;\n",
       "    }\n",
       "\n",
       "    .dataframe thead th {\n",
       "        text-align: right;\n",
       "    }\n",
       "</style>\n",
       "<table border=\"1\" class=\"dataframe\">\n",
       "  <thead>\n",
       "    <tr style=\"text-align: right;\">\n",
       "      <th></th>\n",
       "      <th>totalAmount</th>\n",
       "      <th>existing</th>\n",
       "      <th>new</th>\n",
       "      <th>0</th>\n",
       "      <th>1</th>\n",
       "      <th>2</th>\n",
       "      <th>3</th>\n",
       "      <th>4</th>\n",
       "      <th>5</th>\n",
       "      <th>returnLabel</th>\n",
       "    </tr>\n",
       "  </thead>\n",
       "  <tbody>\n",
       "    <tr>\n",
       "      <th>0</th>\n",
       "      <td>366.0</td>\n",
       "      <td>1</td>\n",
       "      <td>0</td>\n",
       "      <td>0</td>\n",
       "      <td>0</td>\n",
       "      <td>1</td>\n",
       "      <td>3</td>\n",
       "      <td>2</td>\n",
       "      <td>0</td>\n",
       "      <td>1</td>\n",
       "    </tr>\n",
       "    <tr>\n",
       "      <th>1</th>\n",
       "      <td>85.0</td>\n",
       "      <td>1</td>\n",
       "      <td>0</td>\n",
       "      <td>0</td>\n",
       "      <td>0</td>\n",
       "      <td>0</td>\n",
       "      <td>2</td>\n",
       "      <td>2</td>\n",
       "      <td>1</td>\n",
       "      <td>0</td>\n",
       "    </tr>\n",
       "    <tr>\n",
       "      <th>2</th>\n",
       "      <td>275.0</td>\n",
       "      <td>1</td>\n",
       "      <td>0</td>\n",
       "      <td>1</td>\n",
       "      <td>4</td>\n",
       "      <td>2</td>\n",
       "      <td>2</td>\n",
       "      <td>2</td>\n",
       "      <td>0</td>\n",
       "      <td>0</td>\n",
       "    </tr>\n",
       "    <tr>\n",
       "      <th>3</th>\n",
       "      <td>528.0</td>\n",
       "      <td>1</td>\n",
       "      <td>0</td>\n",
       "      <td>1</td>\n",
       "      <td>3</td>\n",
       "      <td>2</td>\n",
       "      <td>1</td>\n",
       "      <td>0</td>\n",
       "      <td>1</td>\n",
       "      <td>0</td>\n",
       "    </tr>\n",
       "    <tr>\n",
       "      <th>4</th>\n",
       "      <td>287.0</td>\n",
       "      <td>1</td>\n",
       "      <td>0</td>\n",
       "      <td>0</td>\n",
       "      <td>1</td>\n",
       "      <td>2</td>\n",
       "      <td>1</td>\n",
       "      <td>1</td>\n",
       "      <td>2</td>\n",
       "      <td>0</td>\n",
       "    </tr>\n",
       "    <tr>\n",
       "      <th>6</th>\n",
       "      <td>609.0</td>\n",
       "      <td>0</td>\n",
       "      <td>1</td>\n",
       "      <td>2</td>\n",
       "      <td>2</td>\n",
       "      <td>1</td>\n",
       "      <td>1</td>\n",
       "      <td>1</td>\n",
       "      <td>0</td>\n",
       "      <td>0</td>\n",
       "    </tr>\n",
       "    <tr>\n",
       "      <th>7</th>\n",
       "      <td>770.0</td>\n",
       "      <td>1</td>\n",
       "      <td>0</td>\n",
       "      <td>1</td>\n",
       "      <td>0</td>\n",
       "      <td>2</td>\n",
       "      <td>3</td>\n",
       "      <td>1</td>\n",
       "      <td>0</td>\n",
       "      <td>0</td>\n",
       "    </tr>\n",
       "    <tr>\n",
       "      <th>8</th>\n",
       "      <td>43.0</td>\n",
       "      <td>1</td>\n",
       "      <td>0</td>\n",
       "      <td>0</td>\n",
       "      <td>0</td>\n",
       "      <td>0</td>\n",
       "      <td>0</td>\n",
       "      <td>0</td>\n",
       "      <td>1</td>\n",
       "      <td>0</td>\n",
       "    </tr>\n",
       "    <tr>\n",
       "      <th>9</th>\n",
       "      <td>50.0</td>\n",
       "      <td>0</td>\n",
       "      <td>1</td>\n",
       "      <td>0</td>\n",
       "      <td>0</td>\n",
       "      <td>0</td>\n",
       "      <td>0</td>\n",
       "      <td>1</td>\n",
       "      <td>0</td>\n",
       "      <td>1</td>\n",
       "    </tr>\n",
       "    <tr>\n",
       "      <th>10</th>\n",
       "      <td>408.0</td>\n",
       "      <td>1</td>\n",
       "      <td>0</td>\n",
       "      <td>2</td>\n",
       "      <td>2</td>\n",
       "      <td>0</td>\n",
       "      <td>2</td>\n",
       "      <td>1</td>\n",
       "      <td>1</td>\n",
       "      <td>0</td>\n",
       "    </tr>\n",
       "  </tbody>\n",
       "</table>\n",
       "</div>"
      ],
      "text/plain": [
       "    totalAmount  existing  new  0  1  2  3  4  5  returnLabel\n",
       "0         366.0         1    0  0  0  1  3  2  0            1\n",
       "1          85.0         1    0  0  0  0  2  2  1            0\n",
       "2         275.0         1    0  1  4  2  2  2  0            0\n",
       "3         528.0         1    0  1  3  2  1  0  1            0\n",
       "4         287.0         1    0  0  1  2  1  1  2            0\n",
       "6         609.0         0    1  2  2  1  1  1  0            0\n",
       "7         770.0         1    0  1  0  2  3  1  0            0\n",
       "8          43.0         1    0  0  0  0  0  0  1            0\n",
       "9          50.0         0    1  0  0  0  0  1  0            1\n",
       "10        408.0         1    0  2  2  0  2  1  1            0"
      ]
     },
     "execution_count": 35,
     "metadata": {},
     "output_type": "execute_result"
    }
   ],
   "source": [
    "df_test = test_data[[\"totalAmount\",\"existing\",\"new\",\"0\",\"1\",\"2\",\"3\",\"4\",\"5\", \"returnLabel\"]]\n",
    "df_test.head(10)"
   ]
  },
  {
   "cell_type": "code",
   "execution_count": 36,
   "id": "ff5dd940",
   "metadata": {},
   "outputs": [],
   "source": [
    "df_test_X = df_test.drop(columns=[\"returnLabel\"])\n",
    "df_test_y = df_test[\"returnLabel\"]"
   ]
  },
  {
   "attachments": {},
   "cell_type": "markdown",
   "id": "2057710e",
   "metadata": {},
   "source": [
    "# Schritt 11"
   ]
  },
  {
   "attachments": {},
   "cell_type": "markdown",
   "id": "af74a80b",
   "metadata": {},
   "source": [
    "Skalieren der Testdaten"
   ]
  },
  {
   "cell_type": "code",
   "execution_count": 37,
   "id": "baceab55",
   "metadata": {},
   "outputs": [],
   "source": [
    "X_scaled_test = scaler.fit_transform(df_test_X)"
   ]
  },
  {
   "attachments": {},
   "cell_type": "markdown",
   "id": "e7e960d2",
   "metadata": {},
   "source": [
    "# Schritt 12 und 13"
   ]
  },
  {
   "attachments": {},
   "cell_type": "markdown",
   "id": "8975192b",
   "metadata": {},
   "source": [
    "Vorhersagen und Scores"
   ]
  },
  {
   "attachments": {},
   "cell_type": "markdown",
   "id": "2444f3cf",
   "metadata": {},
   "source": [
    "Logistische Regression mit C=5 und penalty=l2 "
   ]
  },
  {
   "cell_type": "code",
   "execution_count": 38,
   "id": "71eb20ce",
   "metadata": {},
   "outputs": [],
   "source": [
    "predictions_logistic = grid_clf_logistic.predict(X_scaled_test)"
   ]
  },
  {
   "cell_type": "code",
   "execution_count": 39,
   "id": "f887f069",
   "metadata": {},
   "outputs": [
    {
     "name": "stdout",
     "output_type": "stream",
     "text": [
      "Accuracy 0.8732928679817906\n",
      "Precision 0.8094494338149161\n",
      "Recall 0.7527233115468409\n"
     ]
    }
   ],
   "source": [
    "print(\"Accuracy\", accuracy_score(df_test_y, predictions_logistic))\n",
    "print(\"Precision\", precision_score(df_test_y, predictions_logistic))\n",
    "print(\"Recall\", recall_score(df_test_y, predictions_logistic))"
   ]
  },
  {
   "attachments": {},
   "cell_type": "markdown",
   "id": "0148083a",
   "metadata": {},
   "source": [
    "RandomForest mit n_estimator = 120 und max_depth = 6"
   ]
  },
  {
   "cell_type": "code",
   "execution_count": 40,
   "id": "70bf0b19",
   "metadata": {},
   "outputs": [],
   "source": [
    "predictions_rf = grid_clf_rf.predict(X_scaled_test)"
   ]
  },
  {
   "cell_type": "code",
   "execution_count": 41,
   "id": "ddc393d1",
   "metadata": {},
   "outputs": [
    {
     "name": "stdout",
     "output_type": "stream",
     "text": [
      "Accuracy 0.8605029265120312\n",
      "Precision 0.8007380073800738\n",
      "Recall 0.7091503267973857\n"
     ]
    }
   ],
   "source": [
    "print(\"Accuracy\", accuracy_score(df_test_y, predictions_rf))\n",
    "print(\"Precision\", precision_score(df_test_y, predictions_rf))\n",
    "print(\"Recall\", recall_score(df_test_y, predictions_rf))"
   ]
  },
  {
   "attachments": {},
   "cell_type": "markdown",
   "id": "71af6738",
   "metadata": {},
   "source": [
    "Gradient Boosting Tree mit n_estimator = 100 und max_depth = 4"
   ]
  },
  {
   "cell_type": "code",
   "execution_count": 42,
   "id": "8e57d656",
   "metadata": {},
   "outputs": [],
   "source": [
    "predictions_gbt = grid_clf_gbt.predict(X_scaled_test)"
   ]
  },
  {
   "cell_type": "code",
   "execution_count": 43,
   "id": "813377a4",
   "metadata": {},
   "outputs": [
    {
     "name": "stdout",
     "output_type": "stream",
     "text": [
      "Accuracy 0.8731844786473011\n",
      "Precision 0.8011406844106463\n",
      "Recall 0.7650689905591866\n"
     ]
    }
   ],
   "source": [
    "print(\"Accuracy\", accuracy_score(df_test_y, predictions_gbt))\n",
    "print(\"Precision\", precision_score(df_test_y, predictions_gbt))\n",
    "print(\"Recall\", recall_score(df_test_y, predictions_gbt))"
   ]
  },
  {
   "attachments": {},
   "cell_type": "markdown",
   "id": "a0fbc6b1",
   "metadata": {},
   "source": [
    "# Schritt 14"
   ]
  },
  {
   "attachments": {},
   "cell_type": "markdown",
   "id": "32b3bc05",
   "metadata": {},
   "source": [
    "Accuracy berechnen auf den Trainingsdaten"
   ]
  },
  {
   "cell_type": "code",
   "execution_count": 44,
   "id": "71eb20ce",
   "metadata": {},
   "outputs": [],
   "source": [
    "predictions_logistic_train = grid_clf_logistic.predict(X_scaled)"
   ]
  },
  {
   "cell_type": "code",
   "execution_count": 45,
   "id": "f887f069",
   "metadata": {},
   "outputs": [
    {
     "name": "stdout",
     "output_type": "stream",
     "text": [
      "Accuracy 0.8784821428571429\n",
      "Precision 0.8216039279869067\n",
      "Recall 0.7546602525556224\n"
     ]
    }
   ],
   "source": [
    "print(\"Accuracy\", accuracy_score(df_y, predictions_logistic_train))\n",
    "print(\"Precision\", precision_score(df_y, predictions_logistic_train))\n",
    "print(\"Recall\", recall_score(df_y, predictions_logistic_train))"
   ]
  },
  {
   "attachments": {},
   "cell_type": "markdown",
   "id": "0148083a",
   "metadata": {},
   "source": [
    "RandomForest mit n_estimator = 120 und max_depth = 6"
   ]
  },
  {
   "cell_type": "code",
   "execution_count": 46,
   "id": "70bf0b19",
   "metadata": {},
   "outputs": [],
   "source": [
    "predictions_rf_train = grid_clf_rf.predict(X_scaled)"
   ]
  },
  {
   "cell_type": "code",
   "execution_count": 47,
   "id": "ddc393d1",
   "metadata": {},
   "outputs": [
    {
     "name": "stdout",
     "output_type": "stream",
     "text": [
      "Accuracy 0.8697321428571428\n",
      "Precision 0.8145215633423181\n",
      "Recall 0.7268490679494889\n"
     ]
    }
   ],
   "source": [
    "print(\"Accuracy\", accuracy_score(df_y, predictions_rf_train))\n",
    "print(\"Precision\", precision_score(df_y, predictions_rf_train))\n",
    "print(\"Recall\", recall_score(df_y, predictions_rf_train))"
   ]
  },
  {
   "attachments": {},
   "cell_type": "markdown",
   "id": "71af6738",
   "metadata": {},
   "source": [
    "Gradient Boosting Tree mit n_estimator = 100 und max_depth = 4"
   ]
  },
  {
   "cell_type": "code",
   "execution_count": 48,
   "id": "8e57d656",
   "metadata": {},
   "outputs": [],
   "source": [
    "predictions_gbt_train = grid_clf_gbt.predict(X_scaled)"
   ]
  },
  {
   "cell_type": "code",
   "execution_count": 49,
   "id": "813377a4",
   "metadata": {},
   "outputs": [
    {
     "name": "stdout",
     "output_type": "stream",
     "text": [
      "Accuracy 0.8861160714285714\n",
      "Precision 0.8233717079325028\n",
      "Recall 0.7848767288033675\n"
     ]
    }
   ],
   "source": [
    "print(\"Accuracy\", accuracy_score(df_y, predictions_gbt_train))\n",
    "print(\"Precision\", precision_score(df_y, predictions_gbt_train))\n",
    "print(\"Recall\", recall_score(df_y, predictions_gbt_train))"
   ]
  },
  {
   "attachments": {},
   "cell_type": "markdown",
   "id": "89fa966e",
   "metadata": {},
   "source": [
    "Es liegt kein Overfitting vor, denn die Werte bei den Trainingsdaten sind nicht signifikant besser als die Testdaten, unterschiede im Bereich von maximal 2-3%."
   ]
  },
  {
   "attachments": {},
   "cell_type": "markdown",
   "id": "4a5271af",
   "metadata": {},
   "source": [
    "# Schritt 15"
   ]
  },
  {
   "attachments": {},
   "cell_type": "markdown",
   "id": "9f4dcbc2",
   "metadata": {},
   "source": [
    "1) Falsche Vorhersagen bestimmen"
   ]
  },
  {
   "cell_type": "code",
   "execution_count": 50,
   "id": "99f321ff",
   "metadata": {},
   "outputs": [
    {
     "data": {
      "text/plain": [
       "1169"
      ]
     },
     "execution_count": 50,
     "metadata": {},
     "output_type": "execute_result"
    }
   ],
   "source": [
    "# @param predictions : prediction-Array von den Modellen\n",
    "def findFalscheVorhersagen(predictions):\n",
    "    ls = []\n",
    "    counter = 0 # index des dataFrames (Test_DataFrame (Label))\n",
    "    for i in predictions:\n",
    "        if(i != df_test_y.iloc[counter]):\n",
    "            ls.append(counter)\n",
    "        counter+=1     \n",
    "    return ls\n",
    "\n",
    "logistic_failures = findFalscheVorhersagen(predictions_logistic)\n",
    "len(logistic_failures)"
   ]
  },
  {
   "cell_type": "code",
   "execution_count": 51,
   "id": "72979eda",
   "metadata": {},
   "outputs": [
    {
     "data": {
      "text/plain": [
       "1287"
      ]
     },
     "execution_count": 51,
     "metadata": {},
     "output_type": "execute_result"
    }
   ],
   "source": [
    "rf_failures = findFalscheVorhersagen(predictions_rf)\n",
    "len(rf_failures)"
   ]
  },
  {
   "cell_type": "code",
   "execution_count": 52,
   "id": "c291d9a9",
   "metadata": {},
   "outputs": [
    {
     "data": {
      "text/plain": [
       "1170"
      ]
     },
     "execution_count": 52,
     "metadata": {},
     "output_type": "execute_result"
    }
   ],
   "source": [
    "gbt_failures = findFalscheVorhersagen(predictions_gbt)\n",
    "len(gbt_failures)"
   ]
  },
  {
   "attachments": {},
   "cell_type": "markdown",
   "id": "97b143bc",
   "metadata": {},
   "source": [
    "2. gemeinsame Falsche Vorhersagen bestimmen"
   ]
  },
  {
   "cell_type": "code",
   "execution_count": 53,
   "id": "8ab0e7ec",
   "metadata": {},
   "outputs": [
    {
     "data": {
      "text/plain": [
       "889"
      ]
     },
     "execution_count": 53,
     "metadata": {},
     "output_type": "execute_result"
    }
   ],
   "source": [
    "falscheVorhersagen_logisticReg = set(logistic_failures)\n",
    "falscheVorhersagen_rf = set(rf_failures)\n",
    "falscheVorhersagen_gbt = set(gbt_failures)\n",
    "\n",
    "falscheVorhersagen = falscheVorhersagen_logisticReg.intersection(falscheVorhersagen_rf & falscheVorhersagen_gbt)\n",
    "len(falscheVorhersagen)"
   ]
  }
 ],
 "metadata": {
  "kernelspec": {
   "display_name": "ml-env",
   "language": "python",
   "name": "python3"
  },
  "language_info": {
   "codemirror_mode": {
    "name": "ipython",
    "version": 3
   },
   "file_extension": ".py",
   "mimetype": "text/x-python",
   "name": "python",
   "nbconvert_exporter": "python",
   "pygments_lexer": "ipython3",
   "version": "3.8.13 (default, Mar 28 2022, 06:59:08) [MSC v.1916 64 bit (AMD64)]"
  },
  "vscode": {
   "interpreter": {
    "hash": "dbd3d19c050dd71f190eafb081f44c6143cd12a6facd1212183781fccd0b1d56"
   }
  }
 },
 "nbformat": 4,
 "nbformat_minor": 5
}
